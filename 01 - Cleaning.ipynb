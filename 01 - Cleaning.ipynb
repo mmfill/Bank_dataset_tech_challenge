{
 "cells": [
  {
   "cell_type": "markdown",
   "metadata": {},
   "source": [
    "# Tech-Challenge - Cleaning\n",
    "\n",
    "You are given a dataset coming from one of the banks. The dataset is available here: https://drive.google.com/file/d/1XAC-bK29qppHwQHrwVGBa4yCH6ocD7iL/view?usp=sharing. It contains information about customers, their accounts, credit cards, loans taken and transactions. A comprehensive explanation of the dataset and particular attributes can be accessed here (https://sorry.vse.cz/~berka/challenge/pkdd1999/berka.htm).  Please make yourself familiar with the data model and have a look over the data files."
   ]
  },
  {
   "cell_type": "markdown",
   "metadata": {},
   "source": [
    "## Cleaning / Preparation\n",
    "Our transactional dataset (“trans” table) was just delivered to you from a different department where it was put together from different sources. You would like to make sure that the data is clean and ready for using it in the production database. Please fix the problems in the dataset before you start the analytical jobs to get a good result!\n",
    "\n",
    "So lets see what 'trans.csv' (df_trans) is about. Under https://sorry.vse.cz/~berka/challenge/pkdd1999/berka.htm you find the following description of trans.csv:\n",
    "\n",
    "relation transaction (1056320 objects in the file TRANS.ASC) - each record describes one transaction on an account"
   ]
  },
  {
   "cell_type": "code",
   "execution_count": 1,
   "metadata": {},
   "outputs": [],
   "source": [
    "import numpy as np\n",
    "import pandas as pd\n",
    "import datetime\n",
    "import pickle"
   ]
  },
  {
   "cell_type": "code",
   "execution_count": 2,
   "metadata": {},
   "outputs": [],
   "source": [
    "# Read in the csv files\n",
    "path_to_files = 'data/'\n",
    "\n",
    "df_account = pd.read_csv(path_to_files+'account.csv', sep=';')\n",
    "df_card = pd.read_csv(path_to_files+'card.csv', sep=';')\n",
    "df_client = pd.read_csv(path_to_files+'client.csv', sep=';')\n",
    "df_disp = pd.read_csv(path_to_files+'disp.csv', sep=';')\n",
    "df_district = pd.read_csv(path_to_files+'district.csv', sep=';')\n",
    "df_loan = pd.read_csv(path_to_files+'loan.csv', sep=';')\n",
    "df_order = pd.read_csv(path_to_files+'order.csv', sep=';')\n",
    "df_trans = pd.read_csv(path_to_files+'trans.csv', sep=';')"
   ]
  },
  {
   "cell_type": "code",
   "execution_count": 5,
   "metadata": {},
   "outputs": [
    {
     "data": {
      "text/html": [
       "<div>\n",
       "<style scoped>\n",
       "    .dataframe tbody tr th:only-of-type {\n",
       "        vertical-align: middle;\n",
       "    }\n",
       "\n",
       "    .dataframe tbody tr th {\n",
       "        vertical-align: top;\n",
       "    }\n",
       "\n",
       "    .dataframe thead th {\n",
       "        text-align: right;\n",
       "    }\n",
       "</style>\n",
       "<table border=\"1\" class=\"dataframe\">\n",
       "  <thead>\n",
       "    <tr style=\"text-align: right;\">\n",
       "      <th></th>\n",
       "      <th>trans_id</th>\n",
       "      <th>account_id</th>\n",
       "      <th>date</th>\n",
       "      <th>type</th>\n",
       "      <th>operation</th>\n",
       "      <th>amount</th>\n",
       "      <th>balance</th>\n",
       "      <th>k_symbol</th>\n",
       "      <th>branch</th>\n",
       "      <th>bank</th>\n",
       "      <th>account</th>\n",
       "    </tr>\n",
       "  </thead>\n",
       "  <tbody>\n",
       "    <tr>\n",
       "      <th>0</th>\n",
       "      <td>967842</td>\n",
       "      <td>1532</td>\n",
       "      <td>1998-05-31</td>\n",
       "      <td>PRIJEM</td>\n",
       "      <td>NaN</td>\n",
       "      <td>253</td>\n",
       "      <td>62661</td>\n",
       "      <td>UROK</td>\n",
       "      <td>AR</td>\n",
       "      <td>NaN</td>\n",
       "      <td>0</td>\n",
       "    </tr>\n",
       "    <tr>\n",
       "      <th>1</th>\n",
       "      <td>271012</td>\n",
       "      <td>1499</td>\n",
       "      <td>1998-01-09</td>\n",
       "      <td>PRIJEM</td>\n",
       "      <td>VKLAD</td>\n",
       "      <td>5500</td>\n",
       "      <td>49790</td>\n",
       "      <td>NaN</td>\n",
       "      <td>AR</td>\n",
       "      <td>NaN</td>\n",
       "      <td>0</td>\n",
       "    </tr>\n",
       "    <tr>\n",
       "      <th>2</th>\n",
       "      <td>971490</td>\n",
       "      <td>1645</td>\n",
       "      <td>1996-11-30</td>\n",
       "      <td>PRIJEM</td>\n",
       "      <td>NaN</td>\n",
       "      <td>43</td>\n",
       "      <td>19460</td>\n",
       "      <td>UROK</td>\n",
       "      <td>AR</td>\n",
       "      <td>NaN</td>\n",
       "      <td>0</td>\n",
       "    </tr>\n",
       "    <tr>\n",
       "      <th>3</th>\n",
       "      <td>605699</td>\n",
       "      <td>3366</td>\n",
       "      <td>1996-10-28</td>\n",
       "      <td>VYDAJ</td>\n",
       "      <td>VYBER</td>\n",
       "      <td>9300</td>\n",
       "      <td>38433</td>\n",
       "      <td>NaN</td>\n",
       "      <td>AR</td>\n",
       "      <td>NaN</td>\n",
       "      <td>0</td>\n",
       "    </tr>\n",
       "    <tr>\n",
       "      <th>4</th>\n",
       "      <td>443107</td>\n",
       "      <td>2471</td>\n",
       "      <td>1998-07-30</td>\n",
       "      <td>VYDAJ</td>\n",
       "      <td>VYBER</td>\n",
       "      <td>7800</td>\n",
       "      <td>56237</td>\n",
       "      <td>NaN</td>\n",
       "      <td>AR</td>\n",
       "      <td>NaN</td>\n",
       "      <td>0</td>\n",
       "    </tr>\n",
       "    <tr>\n",
       "      <th>5</th>\n",
       "      <td>627433</td>\n",
       "      <td>3503</td>\n",
       "      <td>1995-06-07</td>\n",
       "      <td>VYDAJ</td>\n",
       "      <td>VYBER</td>\n",
       "      <td>28640</td>\n",
       "      <td>41949</td>\n",
       "      <td>NaN</td>\n",
       "      <td>AR</td>\n",
       "      <td>NaN</td>\n",
       "      <td>0</td>\n",
       "    </tr>\n",
       "    <tr>\n",
       "      <th>6</th>\n",
       "      <td>390740</td>\n",
       "      <td>2162</td>\n",
       "      <td>1997-12-03</td>\n",
       "      <td>PRIJEM</td>\n",
       "      <td>VKLAD</td>\n",
       "      <td>11111</td>\n",
       "      <td>38640</td>\n",
       "      <td>NaN</td>\n",
       "      <td>AR</td>\n",
       "      <td>NaN</td>\n",
       "      <td>0</td>\n",
       "    </tr>\n",
       "    <tr>\n",
       "      <th>7</th>\n",
       "      <td>516014</td>\n",
       "      <td>2861</td>\n",
       "      <td>1997-01-13</td>\n",
       "      <td>VYDAJ</td>\n",
       "      <td>PREVOD NA UCET</td>\n",
       "      <td>2613</td>\n",
       "      <td>25692</td>\n",
       "      <td>SIPO</td>\n",
       "      <td>AR</td>\n",
       "      <td>GH</td>\n",
       "      <td>70139986</td>\n",
       "    </tr>\n",
       "    <tr>\n",
       "      <th>8</th>\n",
       "      <td>321504</td>\n",
       "      <td>1782</td>\n",
       "      <td>1994-04-30</td>\n",
       "      <td>VYDAJ</td>\n",
       "      <td>VYBER</td>\n",
       "      <td>960</td>\n",
       "      <td>25793</td>\n",
       "      <td>NaN</td>\n",
       "      <td>AR</td>\n",
       "      <td>NaN</td>\n",
       "      <td>0</td>\n",
       "    </tr>\n",
       "    <tr>\n",
       "      <th>9</th>\n",
       "      <td>329984</td>\n",
       "      <td>1823</td>\n",
       "      <td>1997-02-05</td>\n",
       "      <td>PRIJEM</td>\n",
       "      <td>PREVOD Z UCTU</td>\n",
       "      <td>4941</td>\n",
       "      <td>25705</td>\n",
       "      <td>DUCHOD</td>\n",
       "      <td>AR</td>\n",
       "      <td>CD</td>\n",
       "      <td>91663467</td>\n",
       "    </tr>\n",
       "  </tbody>\n",
       "</table>\n",
       "</div>"
      ],
      "text/plain": [
       "   trans_id  account_id        date    type       operation  amount  balance  \\\n",
       "0    967842        1532  1998-05-31  PRIJEM             NaN     253    62661   \n",
       "1    271012        1499  1998-01-09  PRIJEM           VKLAD    5500    49790   \n",
       "2    971490        1645  1996-11-30  PRIJEM             NaN      43    19460   \n",
       "3    605699        3366  1996-10-28   VYDAJ           VYBER    9300    38433   \n",
       "4    443107        2471  1998-07-30   VYDAJ           VYBER    7800    56237   \n",
       "5    627433        3503  1995-06-07   VYDAJ           VYBER   28640    41949   \n",
       "6    390740        2162  1997-12-03  PRIJEM           VKLAD   11111    38640   \n",
       "7    516014        2861  1997-01-13   VYDAJ  PREVOD NA UCET    2613    25692   \n",
       "8    321504        1782  1994-04-30   VYDAJ           VYBER     960    25793   \n",
       "9    329984        1823  1997-02-05  PRIJEM   PREVOD Z UCTU    4941    25705   \n",
       "\n",
       "  k_symbol branch bank   account  \n",
       "0     UROK     AR  NaN         0  \n",
       "1      NaN     AR  NaN         0  \n",
       "2     UROK     AR  NaN         0  \n",
       "3      NaN     AR  NaN         0  \n",
       "4      NaN     AR  NaN         0  \n",
       "5      NaN     AR  NaN         0  \n",
       "6      NaN     AR  NaN         0  \n",
       "7     SIPO     AR   GH  70139986  \n",
       "8      NaN     AR  NaN         0  \n",
       "9   DUCHOD     AR   CD  91663467  "
      ]
     },
     "execution_count": 5,
     "metadata": {},
     "output_type": "execute_result"
    }
   ],
   "source": [
    "df_trans.head(10)"
   ]
  },
  {
   "cell_type": "code",
   "execution_count": 5,
   "metadata": {},
   "outputs": [
    {
     "data": {
      "text/html": [
       "<div>\n",
       "<style scoped>\n",
       "    .dataframe tbody tr th:only-of-type {\n",
       "        vertical-align: middle;\n",
       "    }\n",
       "\n",
       "    .dataframe tbody tr th {\n",
       "        vertical-align: top;\n",
       "    }\n",
       "\n",
       "    .dataframe thead th {\n",
       "        text-align: right;\n",
       "    }\n",
       "</style>\n",
       "<table border=\"1\" class=\"dataframe\">\n",
       "  <thead>\n",
       "    <tr style=\"text-align: right;\">\n",
       "      <th></th>\n",
       "      <th>trans_id</th>\n",
       "      <th>account_id</th>\n",
       "      <th>amount</th>\n",
       "      <th>balance</th>\n",
       "      <th>account</th>\n",
       "    </tr>\n",
       "  </thead>\n",
       "  <tbody>\n",
       "    <tr>\n",
       "      <th>count</th>\n",
       "      <td>1.056410e+06</td>\n",
       "      <td>1.056410e+06</td>\n",
       "      <td>1.056410e+06</td>\n",
       "      <td>1.056410e+06</td>\n",
       "      <td>1.056410e+06</td>\n",
       "    </tr>\n",
       "    <tr>\n",
       "      <th>mean</th>\n",
       "      <td>5.282038e+05</td>\n",
       "      <td>2.937625e+03</td>\n",
       "      <td>5.924133e+03</td>\n",
       "      <td>3.851928e+04</td>\n",
       "      <td>1.277152e+07</td>\n",
       "    </tr>\n",
       "    <tr>\n",
       "      <th>std</th>\n",
       "      <td>3.049588e+05</td>\n",
       "      <td>2.478601e+03</td>\n",
       "      <td>9.522339e+03</td>\n",
       "      <td>2.211902e+04</td>\n",
       "      <td>2.613622e+07</td>\n",
       "    </tr>\n",
       "    <tr>\n",
       "      <th>min</th>\n",
       "      <td>1.000000e+00</td>\n",
       "      <td>1.000000e+00</td>\n",
       "      <td>0.000000e+00</td>\n",
       "      <td>-4.112600e+04</td>\n",
       "      <td>0.000000e+00</td>\n",
       "    </tr>\n",
       "    <tr>\n",
       "      <th>25%</th>\n",
       "      <td>2.640972e+05</td>\n",
       "      <td>1.205000e+03</td>\n",
       "      <td>1.360000e+02</td>\n",
       "      <td>2.240300e+04</td>\n",
       "      <td>0.000000e+00</td>\n",
       "    </tr>\n",
       "    <tr>\n",
       "      <th>50%</th>\n",
       "      <td>5.282055e+05</td>\n",
       "      <td>2.434000e+03</td>\n",
       "      <td>2.100000e+03</td>\n",
       "      <td>3.314400e+04</td>\n",
       "      <td>0.000000e+00</td>\n",
       "    </tr>\n",
       "    <tr>\n",
       "      <th>75%</th>\n",
       "      <td>7.923048e+05</td>\n",
       "      <td>3.660000e+03</td>\n",
       "      <td>6.800000e+03</td>\n",
       "      <td>4.960500e+04</td>\n",
       "      <td>3.410566e+06</td>\n",
       "    </tr>\n",
       "    <tr>\n",
       "      <th>max</th>\n",
       "      <td>1.056406e+06</td>\n",
       "      <td>1.237600e+04</td>\n",
       "      <td>8.740000e+04</td>\n",
       "      <td>2.096370e+05</td>\n",
       "      <td>9.999420e+07</td>\n",
       "    </tr>\n",
       "  </tbody>\n",
       "</table>\n",
       "</div>"
      ],
      "text/plain": [
       "           trans_id    account_id        amount       balance       account\n",
       "count  1.056410e+06  1.056410e+06  1.056410e+06  1.056410e+06  1.056410e+06\n",
       "mean   5.282038e+05  2.937625e+03  5.924133e+03  3.851928e+04  1.277152e+07\n",
       "std    3.049588e+05  2.478601e+03  9.522339e+03  2.211902e+04  2.613622e+07\n",
       "min    1.000000e+00  1.000000e+00  0.000000e+00 -4.112600e+04  0.000000e+00\n",
       "25%    2.640972e+05  1.205000e+03  1.360000e+02  2.240300e+04  0.000000e+00\n",
       "50%    5.282055e+05  2.434000e+03  2.100000e+03  3.314400e+04  0.000000e+00\n",
       "75%    7.923048e+05  3.660000e+03  6.800000e+03  4.960500e+04  3.410566e+06\n",
       "max    1.056406e+06  1.237600e+04  8.740000e+04  2.096370e+05  9.999420e+07"
      ]
     },
     "execution_count": 5,
     "metadata": {},
     "output_type": "execute_result"
    }
   ],
   "source": [
    "df_trans.describe()"
   ]
  },
  {
   "cell_type": "markdown",
   "metadata": {},
   "source": [
    "The shape of the dataframe is"
   ]
  },
  {
   "cell_type": "code",
   "execution_count": 6,
   "metadata": {},
   "outputs": [
    {
     "data": {
      "text/plain": [
       "(1056410, 11)"
      ]
     },
     "execution_count": 6,
     "metadata": {},
     "output_type": "execute_result"
    }
   ],
   "source": [
    "df_trans.shape"
   ]
  },
  {
   "cell_type": "markdown",
   "metadata": {},
   "source": [
    "The datatypes present are"
   ]
  },
  {
   "cell_type": "code",
   "execution_count": 7,
   "metadata": {},
   "outputs": [
    {
     "data": {
      "text/plain": [
       "trans_id       int64\n",
       "account_id     int64\n",
       "date          object\n",
       "type          object\n",
       "operation     object\n",
       "amount         int64\n",
       "balance        int64\n",
       "k_symbol      object\n",
       "branch        object\n",
       "bank          object\n",
       "account        int64\n",
       "dtype: object"
      ]
     },
     "execution_count": 7,
     "metadata": {},
     "output_type": "execute_result"
    }
   ],
   "source": [
    "df_trans.dtypes"
   ]
  },
  {
   "cell_type": "markdown",
   "metadata": {},
   "source": [
    "### Missing values"
   ]
  },
  {
   "cell_type": "code",
   "execution_count": 8,
   "metadata": {},
   "outputs": [
    {
     "name": "stdout",
     "output_type": "stream",
     "text": [
      "Column trans_id \t 0 missing values (0.00%).\n",
      "Column account_id \t 0 missing values (0.00%).\n",
      "Column date \t 0 missing values (0.00%).\n",
      "Column type \t 0 missing values (0.00%).\n",
      "Column operation \t 183126 missing values (17.33%).\n",
      "Column amount \t 0 missing values (0.00%).\n",
      "Column balance \t 0 missing values (0.00%).\n",
      "Column k_symbol \t 535359 missing values (50.68%).\n",
      "Column branch \t 0 missing values (0.00%).\n",
      "Column bank \t 782875 missing values (74.11%).\n",
      "Column account \t 0 missing values (0.00%).\n"
     ]
    }
   ],
   "source": [
    "for column in df_trans.columns:\n",
    "    nan_sum = df_trans[column].isnull().sum()\n",
    "    print('Column {} \\t {} missing values ({:.2f}%).'.format(column, nan_sum, nan_sum/df_trans.shape[0]*100))"
   ]
  },
  {
   "cell_type": "markdown",
   "metadata": {},
   "source": [
    "### Check for duplicate rows.\n",
    "There are none"
   ]
  },
  {
   "cell_type": "code",
   "execution_count": 9,
   "metadata": {},
   "outputs": [
    {
     "data": {
      "text/plain": [
       "0"
      ]
     },
     "execution_count": 9,
     "metadata": {},
     "output_type": "execute_result"
    }
   ],
   "source": [
    "df_trans.duplicated().sum()"
   ]
  },
  {
   "cell_type": "markdown",
   "metadata": {},
   "source": [
    "### Distribution of values\n",
    "A good way to get a feeling for the values is to use histogram plots. The withdrawel amount and balance are both right skewed as expexted. I expected the account_id to be evenly distributed (or declining linearly, because higher account_id could mean newer account and therefore less time to do transactions), but it seems account IDs with a lower ID-number (< 4000) are more likely to do transactions. I guess this has to do with the dataset being a demo dataset."
   ]
  },
  {
   "cell_type": "code",
   "execution_count": 10,
   "metadata": {},
   "outputs": [
    {
     "data": {
      "text/plain": [
       "array([[<matplotlib.axes._subplots.AxesSubplot object at 0x7fd6a4580b50>,\n",
       "        <matplotlib.axes._subplots.AxesSubplot object at 0x7fd6a3eb8350>],\n",
       "       [<matplotlib.axes._subplots.AxesSubplot object at 0x7fd6a1e22f90>,\n",
       "        <matplotlib.axes._subplots.AxesSubplot object at 0x7fd6a1de67d0>]],\n",
       "      dtype=object)"
      ]
     },
     "execution_count": 10,
     "metadata": {},
     "output_type": "execute_result"
    },
    {
     "data": {
      "image/png": "[encoded data removed]",
      "text/plain": [
       "<Figure size 1080x360 with 4 Axes>"
      ]
     },
     "metadata": {
      "needs_background": "light"
     },
     "output_type": "display_data"
    }
   ],
   "source": [
    "df_trans[['account_id','amount','balance']].hist(bins=50, figsize=(15,5))"
   ]
  },
  {
   "cell_type": "markdown",
   "metadata": {},
   "source": [
    "### Checking through the variables"
   ]
  },
  {
   "cell_type": "code",
   "execution_count": 11,
   "metadata": {},
   "outputs": [
    {
     "data": {
      "text/html": [
       "<div>\n",
       "<style scoped>\n",
       "    .dataframe tbody tr th:only-of-type {\n",
       "        vertical-align: middle;\n",
       "    }\n",
       "\n",
       "    .dataframe tbody tr th {\n",
       "        vertical-align: top;\n",
       "    }\n",
       "\n",
       "    .dataframe thead th {\n",
       "        text-align: right;\n",
       "    }\n",
       "</style>\n",
       "<table border=\"1\" class=\"dataframe\">\n",
       "  <thead>\n",
       "    <tr style=\"text-align: right;\">\n",
       "      <th></th>\n",
       "      <th>trans_id</th>\n",
       "      <th>account_id</th>\n",
       "      <th>date</th>\n",
       "      <th>type</th>\n",
       "      <th>operation</th>\n",
       "      <th>amount</th>\n",
       "      <th>balance</th>\n",
       "      <th>k_symbol</th>\n",
       "      <th>branch</th>\n",
       "      <th>bank</th>\n",
       "      <th>account</th>\n",
       "    </tr>\n",
       "  </thead>\n",
       "  <tbody>\n",
       "    <tr>\n",
       "      <th>0</th>\n",
       "      <td>967842</td>\n",
       "      <td>1532</td>\n",
       "      <td>1998-05-31</td>\n",
       "      <td>PRIJEM</td>\n",
       "      <td>NaN</td>\n",
       "      <td>253</td>\n",
       "      <td>62661</td>\n",
       "      <td>UROK</td>\n",
       "      <td>AR</td>\n",
       "      <td>NaN</td>\n",
       "      <td>0</td>\n",
       "    </tr>\n",
       "    <tr>\n",
       "      <th>1</th>\n",
       "      <td>271012</td>\n",
       "      <td>1499</td>\n",
       "      <td>1998-01-09</td>\n",
       "      <td>PRIJEM</td>\n",
       "      <td>VKLAD</td>\n",
       "      <td>5500</td>\n",
       "      <td>49790</td>\n",
       "      <td>NaN</td>\n",
       "      <td>AR</td>\n",
       "      <td>NaN</td>\n",
       "      <td>0</td>\n",
       "    </tr>\n",
       "    <tr>\n",
       "      <th>2</th>\n",
       "      <td>971490</td>\n",
       "      <td>1645</td>\n",
       "      <td>1996-11-30</td>\n",
       "      <td>PRIJEM</td>\n",
       "      <td>NaN</td>\n",
       "      <td>43</td>\n",
       "      <td>19460</td>\n",
       "      <td>UROK</td>\n",
       "      <td>AR</td>\n",
       "      <td>NaN</td>\n",
       "      <td>0</td>\n",
       "    </tr>\n",
       "    <tr>\n",
       "      <th>3</th>\n",
       "      <td>605699</td>\n",
       "      <td>3366</td>\n",
       "      <td>1996-10-28</td>\n",
       "      <td>VYDAJ</td>\n",
       "      <td>VYBER</td>\n",
       "      <td>9300</td>\n",
       "      <td>38433</td>\n",
       "      <td>NaN</td>\n",
       "      <td>AR</td>\n",
       "      <td>NaN</td>\n",
       "      <td>0</td>\n",
       "    </tr>\n",
       "    <tr>\n",
       "      <th>4</th>\n",
       "      <td>443107</td>\n",
       "      <td>2471</td>\n",
       "      <td>1998-07-30</td>\n",
       "      <td>VYDAJ</td>\n",
       "      <td>VYBER</td>\n",
       "      <td>7800</td>\n",
       "      <td>56237</td>\n",
       "      <td>NaN</td>\n",
       "      <td>AR</td>\n",
       "      <td>NaN</td>\n",
       "      <td>0</td>\n",
       "    </tr>\n",
       "  </tbody>\n",
       "</table>\n",
       "</div>"
      ],
      "text/plain": [
       "   trans_id  account_id        date    type operation  amount  balance  \\\n",
       "0    967842        1532  1998-05-31  PRIJEM       NaN     253    62661   \n",
       "1    271012        1499  1998-01-09  PRIJEM     VKLAD    5500    49790   \n",
       "2    971490        1645  1996-11-30  PRIJEM       NaN      43    19460   \n",
       "3    605699        3366  1996-10-28   VYDAJ     VYBER    9300    38433   \n",
       "4    443107        2471  1998-07-30   VYDAJ     VYBER    7800    56237   \n",
       "\n",
       "  k_symbol branch bank  account  \n",
       "0     UROK     AR  NaN        0  \n",
       "1      NaN     AR  NaN        0  \n",
       "2     UROK     AR  NaN        0  \n",
       "3      NaN     AR  NaN        0  \n",
       "4      NaN     AR  NaN        0  "
      ]
     },
     "execution_count": 11,
     "metadata": {},
     "output_type": "execute_result"
    }
   ],
   "source": [
    "df_trans.head()"
   ]
  },
  {
   "cell_type": "markdown",
   "metadata": {},
   "source": [
    "#### trans_id - issue 1\n",
    "The column 'trans_id' is a record identifier and the entries should therefore be unique for every row. But when comparing the length of the dataframe and the number of unique 'trans_id' values we see that the shapes don't match."
   ]
  },
  {
   "cell_type": "code",
   "execution_count": 12,
   "metadata": {},
   "outputs": [
    {
     "data": {
      "text/plain": [
       "(1056410, 1056398)"
      ]
     },
     "execution_count": 12,
     "metadata": {},
     "output_type": "execute_result"
    }
   ],
   "source": [
    "df_trans.shape[0], len(df_trans.trans_id.unique()) # # of rows > # unique trans_id values"
   ]
  },
  {
   "cell_type": "markdown",
   "metadata": {},
   "source": [
    "The duplicate values trans_id values are"
   ]
  },
  {
   "cell_type": "code",
   "execution_count": 13,
   "metadata": {},
   "outputs": [
    {
     "data": {
      "text/plain": [
       "313087     971227\n",
       "464422     139687\n",
       "513695     685100\n",
       "669645     412937\n",
       "697803     685101\n",
       "826414     139684\n",
       "836795     139688\n",
       "847869     685102\n",
       "937446     139686\n",
       "967566     139689\n",
       "1021339    139685\n",
       "1041488    412938\n",
       "Name: trans_id, dtype: int64"
      ]
     },
     "execution_count": 13,
     "metadata": {},
     "output_type": "execute_result"
    }
   ],
   "source": [
    "df_trans.trans_id[df_trans.trans_id.duplicated()]"
   ]
  },
  {
   "cell_type": "markdown",
   "metadata": {},
   "source": [
    "Because we are not interested in recalculating every transaction it seems reasonable to drop 12 lines out of more than a million"
   ]
  },
  {
   "cell_type": "code",
   "execution_count": 14,
   "metadata": {},
   "outputs": [
    {
     "data": {
      "text/plain": [
       "True"
      ]
     },
     "execution_count": 14,
     "metadata": {},
     "output_type": "execute_result"
    }
   ],
   "source": [
    "# drop follwing rows with duplicate trans_id entry\n",
    "df_trans.drop_duplicates(subset='trans_id', keep = 'first', inplace = True) \n",
    "df_trans.shape[0] == len(df_trans.trans_id.unique())"
   ]
  },
  {
   "cell_type": "markdown",
   "metadata": {},
   "source": [
    "#### account_id - issue 2\n",
    "account_id is the account, the transation deals with. So it can occur multiple times. But lets see if all of the account ids in the trans table are present in the account table df_account."
   ]
  },
  {
   "cell_type": "code",
   "execution_count": 15,
   "metadata": {},
   "outputs": [
    {
     "name": "stdout",
     "output_type": "stream",
     "text": [
      "There are 86 account_id in df_trans, which are not present in df_account.\n"
     ]
    },
    {
     "data": {
      "text/plain": [
       "array([12120, 11977, 11991, 11896, 11652, 11815, 11835, 12116, 11587,\n",
       "       11665, 11622, 12148, 11462, 11795, 12157, 11639, 12376, 11536,\n",
       "       11438, 11875, 11429, 11616, 11985, 11799, 12132, 12246, 11705,\n",
       "       11833, 11513, 11501, 11994, 11797, 11529, 11646, 12336, 12153,\n",
       "       12159, 11416, 11620, 12217, 12100, 11805, 12139, 11483, 12196,\n",
       "       11626, 11597, 12252, 11945, 11727, 12059, 12042, 11573, 11906,\n",
       "       11592, 11715, 11591, 11526, 11712, 11928, 11391, 11503, 11720,\n",
       "       12293, 12349, 11631, 11915, 12296, 11551, 12010, 12164, 11877,\n",
       "       11827, 11737, 11419, 11469, 12110, 11993, 11553, 12230, 11588,\n",
       "       11389, 12001, 11500, 11661, 11790])"
      ]
     },
     "execution_count": 15,
     "metadata": {},
     "output_type": "execute_result"
    }
   ],
   "source": [
    "unique_trans_account_id = df_trans.account_id.unique() # unique account_id in df_trans\n",
    "unique_account_id = df_account.account_id.unique() # unique account_id in df_account\n",
    "# which df_trans.account_id are not in df_account.account_id\n",
    "mask = np.isin(unique_trans_account_id, unique_account_id, invert = True) # compare two numpy arrays\n",
    "useless_ids = unique_trans_account_id[mask] # ids, which are only present in df_trans and not in df_account\n",
    "print('There are', len(unique_trans_account_id[mask]), 'account_id in df_trans, which are not present in df_account.')\n",
    "useless_ids"
   ]
  },
  {
   "cell_type": "markdown",
   "metadata": {},
   "source": [
    "So 86 account_id values are not in the account table. I seems useless to have account IDs which are not registered in the account table. So I guess we can drop them, because only 90 transactions (rows) are affected by this."
   ]
  },
  {
   "cell_type": "code",
   "execution_count": 16,
   "metadata": {},
   "outputs": [
    {
     "data": {
      "text/plain": [
       "90"
      ]
     },
     "execution_count": 16,
     "metadata": {},
     "output_type": "execute_result"
    }
   ],
   "source": [
    "# number of transactions with account_id, which are not in the account table\n",
    "df_trans[df_trans.account_id.isin(useless_ids)].shape[0]"
   ]
  },
  {
   "cell_type": "code",
   "execution_count": 17,
   "metadata": {},
   "outputs": [
    {
     "data": {
      "text/plain": [
       "(1056308, 11)"
      ]
     },
     "execution_count": 17,
     "metadata": {},
     "output_type": "execute_result"
    }
   ],
   "source": [
    "# drop those rows withaccount_id, which are not in the account table\n",
    "df_trans = df_trans[~df_trans.account_id.isin(useless_ids)]\n",
    "df_trans.shape # new shape"
   ]
  },
  {
   "cell_type": "markdown",
   "metadata": {},
   "source": [
    "#### Dates - issue 3\n",
    "Dates are imported as string. I wanted to convert them into dates, but got this error (ValueError: time data 1996-31-12 doesn't match format specified). According to the documentation dates are written in the form YYMMDD (actually it is YYYY-MM-DD). But some are stored in the order YYYY-DD-MM.\n",
    "\n",
    "Obviously wrong dates are the ones with month > 12. It is easy to convert those into the right format by switching month and day. This is not the fastest way to change day and month, but it gets the job done."
   ]
  },
  {
   "cell_type": "code",
   "execution_count": 18,
   "metadata": {},
   "outputs": [
    {
     "name": "stdout",
     "output_type": "stream",
     "text": [
      "The date had to be corrected 3140 times.\n"
     ]
    }
   ],
   "source": [
    "a=[]\n",
    "counter=0\n",
    "for d in df_trans['date']:\n",
    "    if int(d[5:7]) > 12:\n",
    "        d = d[0:5]+d[-2:]+d[4:7]  # put together the string in the right order\n",
    "        counter += 1 # count how often that happens\n",
    "    a.append(pd.to_datetime(d, format='%Y-%m-%d'))\n",
    "df_trans['date_new'] = a\n",
    "print('The date had to be corrected',counter,'times.')"
   ]
  },
  {
   "cell_type": "markdown",
   "metadata": {},
   "source": [
    "But because the dates are not ordered, it is not possible to see which dates with day (month) < 13 are wrong. We can just make a guess.\n",
    "\n",
    "- I assume dates with wrong formats and transaction dates are evenly distributed.\n",
    "- There are 221 dates a year where the day value is >12. ((31-12) 7+4 (30-12)+28-12, leap year not considered), this is 60.55%\n",
    "- df_trans lists 1056410 transactions. According to my assumptions 1056410 * 0.6055 = 639635 of those transactions happened when day > 12.\n",
    "- Above I counted how often I had to correct the obviously wrong dates, which was counter = 3141. This is 3141 / 639635 * 100 = 0.49%\n",
    "- Therefore I assume that there are still 1056410 (1-0.6055) 0.0049 = 2046 transactions whose date has day < 13 and day and month are switched (date is wrong), but which I can not correct."
   ]
  },
  {
   "cell_type": "markdown",
   "metadata": {},
   "source": [
    "#### type - issue 4\n",
    "\"type\" marks what kind of transaction took place. According to documentation \"PRIJEM\" stands for credit, \"VYDAJ\" stands for withdrawal. That´s it. Except...its not."
   ]
  },
  {
   "cell_type": "code",
   "execution_count": 19,
   "metadata": {},
   "outputs": [
    {
     "data": {
      "text/plain": [
       "array(['PRIJEM', 'VYDAJ', 'VYBER', 'PRJIEM'], dtype=object)"
      ]
     },
     "execution_count": 19,
     "metadata": {},
     "output_type": "execute_result"
    }
   ],
   "source": [
    "df_trans.type.unique()"
   ]
  },
  {
   "cell_type": "markdown",
   "metadata": {},
   "source": [
    "When checking the unique values it appears that there are two more entries:\n",
    "- VYBER, which stand for \"withdrawal in cash\" in the column operations. I therefore convert it to VYDAY, which stands for general withdrawal\n",
    "- PRJIEM, which seems to be a typo. So I convert it to PRIJEM"
   ]
  },
  {
   "cell_type": "code",
   "execution_count": 20,
   "metadata": {},
   "outputs": [],
   "source": [
    "df_trans.type.replace(to_replace='VYBER', value = 'VYDAJ', inplace=True)\n",
    "df_trans.type.replace(to_replace='PRIJEM', value = 'PRJIEM', inplace=True)"
   ]
  },
  {
   "cell_type": "markdown",
   "metadata": {},
   "source": [
    "#### operation\n",
    "\"operation\" stands for mode of transaction. There should be 5 different entries: \"VYBER KARTOU\", \"VKLAD\", \"PREVOD Z UCTU\", \"VYBER\" and \"PREVOD NA UCET\""
   ]
  },
  {
   "cell_type": "code",
   "execution_count": 21,
   "metadata": {},
   "outputs": [
    {
     "data": {
      "text/plain": [
       "array([nan, 'VKLAD', 'VYBER', 'PREVOD NA UCET', 'PREVOD Z UCTU',\n",
       "       'VYBER KARTOU'], dtype=object)"
      ]
     },
     "execution_count": 21,
     "metadata": {},
     "output_type": "execute_result"
    }
   ],
   "source": [
    "df_trans.operation.unique()"
   ]
  },
  {
   "cell_type": "markdown",
   "metadata": {},
   "source": [
    "The entries themselves are ok, but the problem here are the 183126 missing values (17.33%) of the dataset, which can not be filled."
   ]
  },
  {
   "cell_type": "markdown",
   "metadata": {},
   "source": [
    "#### amount and balance\n",
    "Amount and balance are two of the most important parameters here and they have both no missing values. But there are 162 transactions with an amount of 0. This should be checked, if there is an error."
   ]
  },
  {
   "cell_type": "code",
   "execution_count": 22,
   "metadata": {},
   "outputs": [
    {
     "data": {
      "text/plain": [
       "162"
      ]
     },
     "execution_count": 22,
     "metadata": {},
     "output_type": "execute_result"
    }
   ],
   "source": [
    "df_trans['amount'][df_trans['amount']==0].count()"
   ]
  },
  {
   "cell_type": "markdown",
   "metadata": {},
   "source": [
    "#### k_symbol\n",
    "k_symbol stands for the characterization of the transaction, with 7 different strings"
   ]
  },
  {
   "cell_type": "code",
   "execution_count": 23,
   "metadata": {},
   "outputs": [
    {
     "data": {
      "text/plain": [
       "array(['UROK', nan, 'SIPO', 'DUCHOD', 'SLUZBY', 'POJISTNE', 'UVER',\n",
       "       'SANKC. UROK'], dtype=object)"
      ]
     },
     "execution_count": 23,
     "metadata": {},
     "output_type": "execute_result"
    }
   ],
   "source": [
    "df_trans.k_symbol.unique()"
   ]
  },
  {
   "cell_type": "markdown",
   "metadata": {},
   "source": [
    "The values are ok, but again, there are 535359 missing values (50.68%) in the original dataset"
   ]
  },
  {
   "cell_type": "markdown",
   "metadata": {},
   "source": [
    "#### bank and account\n",
    "bank states the bank of the partner with a two letter code. There are 782875 missing values (74.11%) in the original dataset. account is the account of the partner, which is \"0\" when the \"bank\" value is missing."
   ]
  },
  {
   "cell_type": "markdown",
   "metadata": {},
   "source": [
    "#### Save the Dataframe"
   ]
  },
  {
   "cell_type": "code",
   "execution_count": 24,
   "metadata": {},
   "outputs": [],
   "source": [
    "df_trans.to_pickle(path_to_files+'trans_cleaned.pkl')"
   ]
  },
  {
   "cell_type": "code",
   "execution_count": null,
   "metadata": {},
   "outputs": [],
   "source": []
  }
 ],
 "metadata": {
  "kernelspec": {
   "display_name": "Python 3",
   "language": "python",
   "name": "python3"
  },
  "language_info": {
   "codemirror_mode": {
    "name": "ipython",
    "version": 3
   },
   "file_extension": ".py",
   "mimetype": "text/x-python",
   "name": "python",
   "nbconvert_exporter": "python",
   "pygments_lexer": "ipython3",
   "version": "3.7.3"
  }
 },
 "nbformat": 4,
 "nbformat_minor": 4
}
