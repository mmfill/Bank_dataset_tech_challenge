{
 "cells": [
  {
   "cell_type": "markdown",
   "metadata": {},
   "source": [
    "# Tech-Challenge - Analysis\n",
    "In this section you will be challenged with a couple of analytical questions about the data as well as some of the more technical nature regarding processing behind the scenes. There might be no single correct answer to some of the questions, feel free to provide solutions which make the most sense to you. "
   ]
  },
  {
   "cell_type": "code",
   "execution_count": 1,
   "metadata": {},
   "outputs": [],
   "source": [
    "import numpy as np\n",
    "import pandas as pd\n",
    "import pickle\n",
    "import matplotlib.pyplot as plt\n",
    "import sqlite3"
   ]
  },
  {
   "cell_type": "code",
   "execution_count": 2,
   "metadata": {},
   "outputs": [],
   "source": [
    "# Einlesen der csv-Files\n",
    "path_to_files = 'data/'\n",
    "\n",
    "df_account = pd.read_csv(path_to_files+'account.csv', sep=';')\n",
    "df_card = pd.read_csv(path_to_files+'card.csv', sep=';')\n",
    "df_client = pd.read_csv(path_to_files+'client.csv', sep=';')\n",
    "df_disp = pd.read_csv(path_to_files+'disp.csv', sep=';')\n",
    "df_district = pd.read_csv(path_to_files+'district.csv', sep=';')\n",
    "df_loan = pd.read_csv(path_to_files+'loan.csv', sep=';')\n",
    "df_order = pd.read_csv(path_to_files+'order.csv', sep=';')\n",
    "\n",
    "df_trans =  pd.read_pickle(path_to_files+'trans_cleaned.pkl')"
   ]
  },
  {
   "cell_type": "markdown",
   "metadata": {},
   "source": [
    "### Question 1\n",
    "Look at some basic statistics of the data (mean, variance, etc.) of the “trans” table to understand it better. Print and explain an aspect of your choice (that you think is interesting) in the notebook."
   ]
  },
  {
   "cell_type": "code",
   "execution_count": 3,
   "metadata": {},
   "outputs": [
    {
     "data": {
      "text/html": [
       "<div>\n",
       "<style scoped>\n",
       "    .dataframe tbody tr th:only-of-type {\n",
       "        vertical-align: middle;\n",
       "    }\n",
       "\n",
       "    .dataframe tbody tr th {\n",
       "        vertical-align: top;\n",
       "    }\n",
       "\n",
       "    .dataframe thead th {\n",
       "        text-align: right;\n",
       "    }\n",
       "</style>\n",
       "<table border=\"1\" class=\"dataframe\">\n",
       "  <thead>\n",
       "    <tr style=\"text-align: right;\">\n",
       "      <th></th>\n",
       "      <th>trans_id</th>\n",
       "      <th>account_id</th>\n",
       "      <th>date</th>\n",
       "      <th>type</th>\n",
       "      <th>operation</th>\n",
       "      <th>amount</th>\n",
       "      <th>balance</th>\n",
       "      <th>k_symbol</th>\n",
       "      <th>branch</th>\n",
       "      <th>bank</th>\n",
       "      <th>account</th>\n",
       "      <th>date_new</th>\n",
       "    </tr>\n",
       "  </thead>\n",
       "  <tbody>\n",
       "    <tr>\n",
       "      <th>0</th>\n",
       "      <td>967842</td>\n",
       "      <td>1532</td>\n",
       "      <td>1998-05-31</td>\n",
       "      <td>PRJIEM</td>\n",
       "      <td>NaN</td>\n",
       "      <td>253</td>\n",
       "      <td>62661</td>\n",
       "      <td>UROK</td>\n",
       "      <td>AR</td>\n",
       "      <td>NaN</td>\n",
       "      <td>0</td>\n",
       "      <td>1998-05-31</td>\n",
       "    </tr>\n",
       "    <tr>\n",
       "      <th>1</th>\n",
       "      <td>271012</td>\n",
       "      <td>1499</td>\n",
       "      <td>1998-01-09</td>\n",
       "      <td>PRJIEM</td>\n",
       "      <td>VKLAD</td>\n",
       "      <td>5500</td>\n",
       "      <td>49790</td>\n",
       "      <td>NaN</td>\n",
       "      <td>AR</td>\n",
       "      <td>NaN</td>\n",
       "      <td>0</td>\n",
       "      <td>1998-01-09</td>\n",
       "    </tr>\n",
       "    <tr>\n",
       "      <th>2</th>\n",
       "      <td>971490</td>\n",
       "      <td>1645</td>\n",
       "      <td>1996-11-30</td>\n",
       "      <td>PRJIEM</td>\n",
       "      <td>NaN</td>\n",
       "      <td>43</td>\n",
       "      <td>19460</td>\n",
       "      <td>UROK</td>\n",
       "      <td>AR</td>\n",
       "      <td>NaN</td>\n",
       "      <td>0</td>\n",
       "      <td>1996-11-30</td>\n",
       "    </tr>\n",
       "    <tr>\n",
       "      <th>3</th>\n",
       "      <td>605699</td>\n",
       "      <td>3366</td>\n",
       "      <td>1996-10-28</td>\n",
       "      <td>VYDAJ</td>\n",
       "      <td>VYBER</td>\n",
       "      <td>9300</td>\n",
       "      <td>38433</td>\n",
       "      <td>NaN</td>\n",
       "      <td>AR</td>\n",
       "      <td>NaN</td>\n",
       "      <td>0</td>\n",
       "      <td>1996-10-28</td>\n",
       "    </tr>\n",
       "    <tr>\n",
       "      <th>4</th>\n",
       "      <td>443107</td>\n",
       "      <td>2471</td>\n",
       "      <td>1998-07-30</td>\n",
       "      <td>VYDAJ</td>\n",
       "      <td>VYBER</td>\n",
       "      <td>7800</td>\n",
       "      <td>56237</td>\n",
       "      <td>NaN</td>\n",
       "      <td>AR</td>\n",
       "      <td>NaN</td>\n",
       "      <td>0</td>\n",
       "      <td>1998-07-30</td>\n",
       "    </tr>\n",
       "  </tbody>\n",
       "</table>\n",
       "</div>"
      ],
      "text/plain": [
       "   trans_id  account_id        date    type operation  amount  balance  \\\n",
       "0    967842        1532  1998-05-31  PRJIEM       NaN     253    62661   \n",
       "1    271012        1499  1998-01-09  PRJIEM     VKLAD    5500    49790   \n",
       "2    971490        1645  1996-11-30  PRJIEM       NaN      43    19460   \n",
       "3    605699        3366  1996-10-28   VYDAJ     VYBER    9300    38433   \n",
       "4    443107        2471  1998-07-30   VYDAJ     VYBER    7800    56237   \n",
       "\n",
       "  k_symbol branch bank  account   date_new  \n",
       "0     UROK     AR  NaN        0 1998-05-31  \n",
       "1      NaN     AR  NaN        0 1998-01-09  \n",
       "2     UROK     AR  NaN        0 1996-11-30  \n",
       "3      NaN     AR  NaN        0 1996-10-28  \n",
       "4      NaN     AR  NaN        0 1998-07-30  "
      ]
     },
     "execution_count": 3,
     "metadata": {},
     "output_type": "execute_result"
    }
   ],
   "source": [
    "df_trans.head()"
   ]
  },
  {
   "cell_type": "markdown",
   "metadata": {},
   "source": [
    "#### account_id, balance and amount\n",
    "The three main number-features are: account_id, balance and amount. Statistical parameters like mean or standard deviation can be misleading, if you don't know, how the distribution looks like. I therefore like to visualize data with histograms to get a feeling for the data distribution, if there are multiple peaks and see if there are outliers."
   ]
  },
  {
   "cell_type": "code",
   "execution_count": 4,
   "metadata": {},
   "outputs": [
    {
     "data": {
      "text/plain": [
       "array([[<matplotlib.axes._subplots.AxesSubplot object at 0x7f14481bb690>,\n",
       "        <matplotlib.axes._subplots.AxesSubplot object at 0x7f14442d8b50>],\n",
       "       [<matplotlib.axes._subplots.AxesSubplot object at 0x7f1410cb1e10>,\n",
       "        <matplotlib.axes._subplots.AxesSubplot object at 0x7f1410c71650>]],\n",
       "      dtype=object)"
      ]
     },
     "execution_count": 4,
     "metadata": {},
     "output_type": "execute_result"
    },
    {
     "data": {
      "image/png": "[encoded data removed]",
      "text/plain": [
       "<Figure size 864x576 with 4 Axes>"
      ]
     },
     "metadata": {
      "needs_background": "light"
     },
     "output_type": "display_data"
    }
   ],
   "source": [
    "df_trans[['account_id','balance','amount']].hist(bins=50,figsize=(12,8))"
   ]
  },
  {
   "cell_type": "markdown",
   "metadata": {},
   "source": [
    "- account_id: I expected the account_id to be evenly distributed, since account_id may not be an indicator for numbers of transactions. Or linearly decaying over time, since higher account_id could be an indicator of a newer account and newer accounts had \"less time\" to do transactions. But the number of transctions as a function of account_id is surprisingly a step function at account_id ~ 4000. I checked if \"amount\" or \"balance\" is different for account_id larger or smaller of 4000, but both have the same distribution\n",
    "\n",
    "- amount: The distribution of \"amount\" is highly right skewed (for example 140000 transactions of 15). This is to be expected, so mean and standard deviation are not the most meaningful metric. Median and 0.25 and 0.75 quantile are more appropriate to grasp the spread of the distribution."
   ]
  },
  {
   "cell_type": "code",
   "execution_count": 5,
   "metadata": {},
   "outputs": [
    {
     "name": "stdout",
     "output_type": "stream",
     "text": [
      "0.25 quantile is 136.0, median is 2100.0, 0.75 quantile is 6800.0\n",
      "The largest transaction is 87400 and the smallest 0\n"
     ]
    }
   ],
   "source": [
    "print('0.25 quantile is {}, median is {}, 0.75 quantile is {}'.format(df_trans.amount.quantile(0.25),df_trans.amount.quantile(0.5),df_trans.amount.quantile(0.75)))\n",
    "print('The largest transaction is {} and the smallest {}'.format(df_trans.amount.max(), df_trans.amount.min()))"
   ]
  },
  {
   "cell_type": "markdown",
   "metadata": {},
   "source": [
    "- balance: Also balance is right skewed, although not as much as amount. But again, the more appropriate statistics are the quantiles."
   ]
  },
  {
   "cell_type": "code",
   "execution_count": 6,
   "metadata": {},
   "outputs": [
    {
     "name": "stdout",
     "output_type": "stream",
     "text": [
      "0.25 quantile is 22402.0, median is 33143.0, 0.75 quantile is 49603.25\n",
      "The largest amount is 209637 and the smallest -41126\n"
     ]
    }
   ],
   "source": [
    "print('0.25 quantile is {}, median is {}, 0.75 quantile is {}'.format(df_trans.balance.quantile(0.25),df_trans.balance.quantile(0.5),df_trans.balance.quantile(0.75)))\n",
    "print('The largest amount is {} and the smallest {}'.format(df_trans.balance.max(), df_trans.balance.min()))"
   ]
  },
  {
   "cell_type": "markdown",
   "metadata": {},
   "source": [
    "#### Date\n",
    "Date is another interesting feature to look at. First, in the cleaning process I guessed that 0.1% of the dates may be wrong due to month-day switching, but this is such a small amount, that it does not worry us here. What we can do with dates is to see how many transactions were done during the recorded time period. Again, I use a histogram plot for each month."
   ]
  },
  {
   "cell_type": "code",
   "execution_count": 7,
   "metadata": {},
   "outputs": [
    {
     "data": {
      "text/plain": [
       "<matplotlib.axes._subplots.AxesSubplot at 0x7f14481bb5d0>"
      ]
     },
     "execution_count": 7,
     "metadata": {},
     "output_type": "execute_result"
    },
    {
     "data": {
      "image/png": "[encoded data removed]",
      "text/plain": [
       "<Figure size 1152x216 with 1 Axes>"
      ]
     },
     "metadata": {
      "needs_background": "light"
     },
     "output_type": "display_data"
    }
   ],
   "source": [
    "df_trans[\"date_new\"].groupby([df_trans[\"date_new\"].dt.year,df_trans[\"date_new\"].dt.month]).count().plot(kind=\"bar\",figsize=(16,3), grid = True)"
   ]
  },
  {
   "cell_type": "markdown",
   "metadata": {},
   "source": [
    "It is interesting to see that number of transactions rises almost linearly until 1998 with an increase of about 5000 transactions each year and than has a plateau at about 260000 transactions for 1998. Also interesting are the increased number of transactions for every January. I do not see any further important statistical parameter for date."
   ]
  },
  {
   "cell_type": "markdown",
   "metadata": {},
   "source": [
    "### Question 2a\n",
    "What district has the highest share of “withdrawal in cash”? Please use a SQL querie to get the required table."
   ]
  },
  {
   "cell_type": "code",
   "execution_count": 9,
   "metadata": {},
   "outputs": [],
   "source": [
    "# create a Database out of Dataframes\n",
    "conn = sqlite3.connect('tech-challenge_db.db')\n",
    "c = conn.cursor()"
   ]
  },
  {
   "cell_type": "code",
   "execution_count": 11,
   "metadata": {},
   "outputs": [],
   "source": [
    "# create empty tables\n",
    "c.execute('''CREATE TABLE account\n",
    "             (account_id, district_id, frequency, date)''')\n",
    "c.execute('''CREATE TABLE card\n",
    "             (card_id, disp_id, type, issued)''')\n",
    "c.execute('''CREATE TABLE client\n",
    "             (client_id, gender, birth_date, district_id)''')\n",
    "c.execute('''CREATE TABLE disp\n",
    "             (disp_id, client_id, account_id, type)''')\n",
    "c.execute('''CREATE TABLE district\n",
    "             (district_id, A2, A3, A4, A5, A6, A7, A8, A9, A10,\n",
    "       A11, A12, A13, A14, A15, A16)''')\n",
    "c.execute('''CREATE TABLE loan\n",
    "             (loan_id, account_id, date, amount, duration, payments,\n",
    "       status)''')\n",
    "c.execute('''CREATE TABLE order_table\n",
    "             (order_id, account_id, bank_to, account_to, amount, k_symbol)''')\n",
    "c.execute('''CREATE TABLE trans\n",
    "             (trans_id, account_id, date, type, operation, amount,\n",
    "       balance, k_symbol, branch, bank, account, date_new)''')\n",
    "conn.commit()"
   ]
  },
  {
   "cell_type": "code",
   "execution_count": 10,
   "metadata": {},
   "outputs": [],
   "source": [
    "# now fill the tables\n",
    "df_account.to_sql('account', conn, if_exists='replace', index = False)\n",
    "df_card.to_sql('card', conn, if_exists='replace', index = False)\n",
    "df_client.to_sql('client', conn, if_exists='replace', index = False)\n",
    "df_disp.to_sql('disp', conn, if_exists='replace', index = False)\n",
    "df_district.to_sql('district', conn, if_exists='replace', index = False)\n",
    "df_loan.to_sql('loan', conn, if_exists='replace', index = False)\n",
    "df_order.to_sql('order_table', conn, if_exists='replace', index = False)\n",
    "df_trans.to_sql('trans', conn, if_exists='replace', index = False)"
   ]
  },
  {
   "cell_type": "markdown",
   "metadata": {},
   "source": [
    "Now lets go to the SQL querie to get the share of “withdrawal in cash”. Since I am not sure if share means the sum or the count of the amounts per district I calculate both. Nevertheless district #1 is the district with both the highest number of withdrawal in cash as well as the highest amount of money by withdrawal in cash."
   ]
  },
  {
   "cell_type": "code",
   "execution_count": 11,
   "metadata": {},
   "outputs": [
    {
     "data": {
      "text/html": [
       "<div>\n",
       "<style scoped>\n",
       "    .dataframe tbody tr th:only-of-type {\n",
       "        vertical-align: middle;\n",
       "    }\n",
       "\n",
       "    .dataframe tbody tr th {\n",
       "        vertical-align: top;\n",
       "    }\n",
       "\n",
       "    .dataframe thead th {\n",
       "        text-align: right;\n",
       "    }\n",
       "</style>\n",
       "<table border=\"1\" class=\"dataframe\">\n",
       "  <thead>\n",
       "    <tr style=\"text-align: right;\">\n",
       "      <th></th>\n",
       "      <th>district_id</th>\n",
       "      <th>sum_amount</th>\n",
       "      <th>count_amount</th>\n",
       "    </tr>\n",
       "  </thead>\n",
       "  <tbody>\n",
       "    <tr>\n",
       "      <th>0</th>\n",
       "      <td>1</td>\n",
       "      <td>299565161</td>\n",
       "      <td>54701</td>\n",
       "    </tr>\n",
       "    <tr>\n",
       "      <th>1</th>\n",
       "      <td>70</td>\n",
       "      <td>79379766</td>\n",
       "      <td>14813</td>\n",
       "    </tr>\n",
       "    <tr>\n",
       "      <th>2</th>\n",
       "      <td>74</td>\n",
       "      <td>79044184</td>\n",
       "      <td>14256</td>\n",
       "    </tr>\n",
       "    <tr>\n",
       "      <th>3</th>\n",
       "      <td>64</td>\n",
       "      <td>58409160</td>\n",
       "      <td>9361</td>\n",
       "    </tr>\n",
       "    <tr>\n",
       "      <th>4</th>\n",
       "      <td>54</td>\n",
       "      <td>54498145</td>\n",
       "      <td>11482</td>\n",
       "    </tr>\n",
       "  </tbody>\n",
       "</table>\n",
       "</div>"
      ],
      "text/plain": [
       "   district_id  sum_amount  count_amount\n",
       "0            1   299565161         54701\n",
       "1           70    79379766         14813\n",
       "2           74    79044184         14256\n",
       "3           64    58409160          9361\n",
       "4           54    54498145         11482"
      ]
     },
     "execution_count": 11,
     "metadata": {},
     "output_type": "execute_result"
    }
   ],
   "source": [
    "df_summed_amount = pd.read_sql('''SELECT account.district_id AS district_id, \n",
    "            SUM(trans.amount) AS sum_amount, \n",
    "            COUNT(trans.amount) AS count_amount\n",
    "            FROM trans\n",
    "            LEFT JOIN account ON trans.account_id = account.account_id\n",
    "            WHERE trans.operation == \"VYBER\"\n",
    "            GROUP BY district_id\n",
    "            ORDER BY sum_amount DESC''', conn)\n",
    "df_summed_amount.head()"
   ]
  },
  {
   "cell_type": "markdown",
   "metadata": {},
   "source": [
    "### Question 2b\n",
    "Please calculate the correlation between number of cash withdrawals per district and a number of inhabitants in particular district. Specify which correlation measure did you choose and describe the result.\n",
    "\n",
    "So first I merge the dataframe, which I got from the SQL querie with the inhabitants of the district dataframe"
   ]
  },
  {
   "cell_type": "code",
   "execution_count": 12,
   "metadata": {},
   "outputs": [
    {
     "data": {
      "text/html": [
       "<div>\n",
       "<style scoped>\n",
       "    .dataframe tbody tr th:only-of-type {\n",
       "        vertical-align: middle;\n",
       "    }\n",
       "\n",
       "    .dataframe tbody tr th {\n",
       "        vertical-align: top;\n",
       "    }\n",
       "\n",
       "    .dataframe thead th {\n",
       "        text-align: right;\n",
       "    }\n",
       "</style>\n",
       "<table border=\"1\" class=\"dataframe\">\n",
       "  <thead>\n",
       "    <tr style=\"text-align: right;\">\n",
       "      <th></th>\n",
       "      <th>district_id</th>\n",
       "      <th>sum_amount</th>\n",
       "      <th>nr_withdrawals</th>\n",
       "      <th>inhabitants</th>\n",
       "    </tr>\n",
       "  </thead>\n",
       "  <tbody>\n",
       "    <tr>\n",
       "      <th>0</th>\n",
       "      <td>1</td>\n",
       "      <td>299565161</td>\n",
       "      <td>54701</td>\n",
       "      <td>1204953</td>\n",
       "    </tr>\n",
       "    <tr>\n",
       "      <th>1</th>\n",
       "      <td>70</td>\n",
       "      <td>79379766</td>\n",
       "      <td>14813</td>\n",
       "      <td>285387</td>\n",
       "    </tr>\n",
       "    <tr>\n",
       "      <th>2</th>\n",
       "      <td>74</td>\n",
       "      <td>79044184</td>\n",
       "      <td>14256</td>\n",
       "      <td>323870</td>\n",
       "    </tr>\n",
       "    <tr>\n",
       "      <th>3</th>\n",
       "      <td>64</td>\n",
       "      <td>58409160</td>\n",
       "      <td>9361</td>\n",
       "      <td>197099</td>\n",
       "    </tr>\n",
       "    <tr>\n",
       "      <th>4</th>\n",
       "      <td>54</td>\n",
       "      <td>54498145</td>\n",
       "      <td>11482</td>\n",
       "      <td>387570</td>\n",
       "    </tr>\n",
       "  </tbody>\n",
       "</table>\n",
       "</div>"
      ],
      "text/plain": [
       "   district_id  sum_amount  nr_withdrawals  inhabitants\n",
       "0            1   299565161           54701      1204953\n",
       "1           70    79379766           14813       285387\n",
       "2           74    79044184           14256       323870\n",
       "3           64    58409160            9361       197099\n",
       "4           54    54498145           11482       387570"
      ]
     },
     "execution_count": 12,
     "metadata": {},
     "output_type": "execute_result"
    }
   ],
   "source": [
    "# merge the dataframes\n",
    "df_merged = df_summed_amount.merge(df_district, left_on='district_id', right_on='district_id')\n",
    "# just keep the ones we need\n",
    "df_merged = df_merged[['district_id','sum_amount','count_amount','A4']]\n",
    "df_merged = df_merged.rename(columns={'count_amount': 'nr_withdrawals','A4': 'inhabitants'}) # rename\n",
    "df_merged.head()"
   ]
  },
  {
   "cell_type": "markdown",
   "metadata": {},
   "source": [
    "For calculating the correlation between 'nr_withdrawals' and 'inhabitants' there are two main correlation factors\n",
    "\n",
    "- Pearson correlation, which gives an answer how well the values of two variables are linearly related. For this to work the values should be normally distributed and the correlation is sensitive to outliers.\n",
    "- Spearman rank correlation: Gives an answer how the ranks of values of two variables are linearly related. This correlation is more robust and insensitive to outliers. So lets see how the two values of the two variables 'nr_withdrawals' and 'inhabitants' are distributed."
   ]
  },
  {
   "cell_type": "code",
   "execution_count": 13,
   "metadata": {},
   "outputs": [
    {
     "data": {
      "text/plain": [
       "array([[<matplotlib.axes._subplots.AxesSubplot object at 0x7f13f8087210>,\n",
       "        <matplotlib.axes._subplots.AxesSubplot object at 0x7f140da45bd0>]],\n",
       "      dtype=object)"
      ]
     },
     "execution_count": 13,
     "metadata": {},
     "output_type": "execute_result"
    },
    {
     "data": {
      "image/png": "[encoded data removed]",
      "text/plain": [
       "<Figure size 1080x216 with 2 Axes>"
      ]
     },
     "metadata": {
      "needs_background": "light"
     },
     "output_type": "display_data"
    }
   ],
   "source": [
    "df_merged[['nr_withdrawals','inhabitants']].hist(bins=40,figsize=(15,3))"
   ]
  },
  {
   "cell_type": "markdown",
   "metadata": {},
   "source": [
    "Both values have outliers, especially with the district of Prague, which has many more inhabitants than the other districts. If we print the number of withdrawals as a function of inhabitans one could argue there is a linear relationship and the Pearson correlation coefficient is very high with 0.96."
   ]
  },
  {
   "cell_type": "code",
   "execution_count": 14,
   "metadata": {},
   "outputs": [
    {
     "data": {
      "text/plain": [
       "<matplotlib.axes._subplots.AxesSubplot at 0x7f140da50710>"
      ]
     },
     "execution_count": 14,
     "metadata": {},
     "output_type": "execute_result"
    },
    {
     "data": {
      "image/png": "[encoded data removed]",
      "text/plain": [
       "<Figure size 432x288 with 1 Axes>"
      ]
     },
     "metadata": {
      "needs_background": "light"
     },
     "output_type": "display_data"
    }
   ],
   "source": [
    "df_merged.plot(x ='inhabitants', y='nr_withdrawals', kind = 'scatter', grid = True)"
   ]
  },
  {
   "cell_type": "markdown",
   "metadata": {},
   "source": [
    "But if we remove the 7 rows with the most inhabitants, the picture changes completely."
   ]
  },
  {
   "cell_type": "code",
   "execution_count": 15,
   "metadata": {},
   "outputs": [
    {
     "data": {
      "text/plain": [
       "<matplotlib.axes._subplots.AxesSubplot at 0x7f140d9deed0>"
      ]
     },
     "execution_count": 15,
     "metadata": {},
     "output_type": "execute_result"
    },
    {
     "data": {
      "image/png": "[encoded data removed]",
      "text/plain": [
       "<Figure size 432x288 with 1 Axes>"
      ]
     },
     "metadata": {
      "needs_background": "light"
     },
     "output_type": "display_data"
    }
   ],
   "source": [
    "df_merged[7:].plot(x ='inhabitants', y='nr_withdrawals', kind = 'scatter', grid = True)"
   ]
  },
  {
   "cell_type": "markdown",
   "metadata": {},
   "source": [
    "No linear relationship can be seen and the pearson correlation coefficient drops to 0.11. I therefore go with the Spearman rank coefficient, which gives a value of 0.35 for the whole dataset. So both variables are vagualy positively correlated (as expected)."
   ]
  },
  {
   "cell_type": "code",
   "execution_count": 16,
   "metadata": {},
   "outputs": [
    {
     "data": {
      "text/html": [
       "<div>\n",
       "<style scoped>\n",
       "    .dataframe tbody tr th:only-of-type {\n",
       "        vertical-align: middle;\n",
       "    }\n",
       "\n",
       "    .dataframe tbody tr th {\n",
       "        vertical-align: top;\n",
       "    }\n",
       "\n",
       "    .dataframe thead th {\n",
       "        text-align: right;\n",
       "    }\n",
       "</style>\n",
       "<table border=\"1\" class=\"dataframe\">\n",
       "  <thead>\n",
       "    <tr style=\"text-align: right;\">\n",
       "      <th></th>\n",
       "      <th>nr_withdrawals</th>\n",
       "      <th>inhabitants</th>\n",
       "    </tr>\n",
       "  </thead>\n",
       "  <tbody>\n",
       "    <tr>\n",
       "      <th>nr_withdrawals</th>\n",
       "      <td>1.000000</td>\n",
       "      <td>0.347339</td>\n",
       "    </tr>\n",
       "    <tr>\n",
       "      <th>inhabitants</th>\n",
       "      <td>0.347339</td>\n",
       "      <td>1.000000</td>\n",
       "    </tr>\n",
       "  </tbody>\n",
       "</table>\n",
       "</div>"
      ],
      "text/plain": [
       "                nr_withdrawals  inhabitants\n",
       "nr_withdrawals        1.000000     0.347339\n",
       "inhabitants           0.347339     1.000000"
      ]
     },
     "execution_count": 16,
     "metadata": {},
     "output_type": "execute_result"
    }
   ],
   "source": [
    "df_merged[['nr_withdrawals','inhabitants']].corr(method='spearman')"
   ]
  },
  {
   "cell_type": "markdown",
   "metadata": {},
   "source": [
    "### Question 3\n",
    "Visualize the average loan amount per district."
   ]
  },
  {
   "cell_type": "code",
   "execution_count": 4,
   "metadata": {},
   "outputs": [
    {
     "data": {
      "text/html": [
       "<div>\n",
       "<style scoped>\n",
       "    .dataframe tbody tr th:only-of-type {\n",
       "        vertical-align: middle;\n",
       "    }\n",
       "\n",
       "    .dataframe tbody tr th {\n",
       "        vertical-align: top;\n",
       "    }\n",
       "\n",
       "    .dataframe thead th {\n",
       "        text-align: right;\n",
       "    }\n",
       "</style>\n",
       "<table border=\"1\" class=\"dataframe\">\n",
       "  <thead>\n",
       "    <tr style=\"text-align: right;\">\n",
       "      <th></th>\n",
       "      <th>loan_id</th>\n",
       "      <th>account_id</th>\n",
       "      <th>date</th>\n",
       "      <th>amount</th>\n",
       "      <th>duration</th>\n",
       "      <th>payments</th>\n",
       "      <th>status</th>\n",
       "    </tr>\n",
       "  </thead>\n",
       "  <tbody>\n",
       "    <tr>\n",
       "      <th>0</th>\n",
       "      <td>4959</td>\n",
       "      <td>2</td>\n",
       "      <td>1994-01-05</td>\n",
       "      <td>80952</td>\n",
       "      <td>24</td>\n",
       "      <td>3373.0</td>\n",
       "      <td>A</td>\n",
       "    </tr>\n",
       "    <tr>\n",
       "      <th>1</th>\n",
       "      <td>4961</td>\n",
       "      <td>19</td>\n",
       "      <td>1996-04-29</td>\n",
       "      <td>30276</td>\n",
       "      <td>12</td>\n",
       "      <td>2523.0</td>\n",
       "      <td>B</td>\n",
       "    </tr>\n",
       "    <tr>\n",
       "      <th>2</th>\n",
       "      <td>4962</td>\n",
       "      <td>25</td>\n",
       "      <td>1997-12-08</td>\n",
       "      <td>30276</td>\n",
       "      <td>12</td>\n",
       "      <td>2523.0</td>\n",
       "      <td>A</td>\n",
       "    </tr>\n",
       "    <tr>\n",
       "      <th>3</th>\n",
       "      <td>4967</td>\n",
       "      <td>37</td>\n",
       "      <td>1998-10-14</td>\n",
       "      <td>318480</td>\n",
       "      <td>60</td>\n",
       "      <td>5308.0</td>\n",
       "      <td>D</td>\n",
       "    </tr>\n",
       "    <tr>\n",
       "      <th>4</th>\n",
       "      <td>4968</td>\n",
       "      <td>38</td>\n",
       "      <td>1998-04-19</td>\n",
       "      <td>110736</td>\n",
       "      <td>48</td>\n",
       "      <td>2307.0</td>\n",
       "      <td>C</td>\n",
       "    </tr>\n",
       "  </tbody>\n",
       "</table>\n",
       "</div>"
      ],
      "text/plain": [
       "   loan_id  account_id        date  amount  duration  payments status\n",
       "0     4959           2  1994-01-05   80952        24    3373.0      A\n",
       "1     4961          19  1996-04-29   30276        12    2523.0      B\n",
       "2     4962          25  1997-12-08   30276        12    2523.0      A\n",
       "3     4967          37  1998-10-14  318480        60    5308.0      D\n",
       "4     4968          38  1998-04-19  110736        48    2307.0      C"
      ]
     },
     "execution_count": 4,
     "metadata": {},
     "output_type": "execute_result"
    }
   ],
   "source": [
    "df_loan.head()"
   ]
  },
  {
   "cell_type": "code",
   "execution_count": 19,
   "metadata": {},
   "outputs": [
    {
     "data": {
      "text/html": [
       "<div>\n",
       "<style scoped>\n",
       "    .dataframe tbody tr th:only-of-type {\n",
       "        vertical-align: middle;\n",
       "    }\n",
       "\n",
       "    .dataframe tbody tr th {\n",
       "        vertical-align: top;\n",
       "    }\n",
       "\n",
       "    .dataframe thead th {\n",
       "        text-align: right;\n",
       "    }\n",
       "</style>\n",
       "<table border=\"1\" class=\"dataframe\">\n",
       "  <thead>\n",
       "    <tr style=\"text-align: right;\">\n",
       "      <th></th>\n",
       "      <th>district_id</th>\n",
       "      <th>avg_loan</th>\n",
       "    </tr>\n",
       "  </thead>\n",
       "  <tbody>\n",
       "    <tr>\n",
       "      <th>0</th>\n",
       "      <td>1</td>\n",
       "      <td>153957.285714</td>\n",
       "    </tr>\n",
       "    <tr>\n",
       "      <th>1</th>\n",
       "      <td>2</td>\n",
       "      <td>147992.000000</td>\n",
       "    </tr>\n",
       "    <tr>\n",
       "      <th>2</th>\n",
       "      <td>3</td>\n",
       "      <td>243466.000000</td>\n",
       "    </tr>\n",
       "    <tr>\n",
       "      <th>3</th>\n",
       "      <td>4</td>\n",
       "      <td>158074.285714</td>\n",
       "    </tr>\n",
       "    <tr>\n",
       "      <th>4</th>\n",
       "      <td>5</td>\n",
       "      <td>190116.000000</td>\n",
       "    </tr>\n",
       "  </tbody>\n",
       "</table>\n",
       "</div>"
      ],
      "text/plain": [
       "   district_id       avg_loan\n",
       "0            1  153957.285714\n",
       "1            2  147992.000000\n",
       "2            3  243466.000000\n",
       "3            4  158074.285714\n",
       "4            5  190116.000000"
      ]
     },
     "execution_count": 19,
     "metadata": {},
     "output_type": "execute_result"
    }
   ],
   "source": [
    "df_avg_loan = pd.read_sql('''SELECT account.district_id AS district_id, \n",
    "            AVG(loan.amount) AS avg_loan\n",
    "            FROM loan\n",
    "            LEFT JOIN account ON loan.account_id = account.account_id\n",
    "            GROUP BY district_id\n",
    "            ORDER BY district_id''', conn)\n",
    "df_avg_loan.head()"
   ]
  },
  {
   "cell_type": "code",
   "execution_count": 20,
   "metadata": {},
   "outputs": [
    {
     "data": {
      "text/plain": [
       "<matplotlib.axes._subplots.AxesSubplot at 0x7f140d90ca90>"
      ]
     },
     "execution_count": 20,
     "metadata": {},
     "output_type": "execute_result"
    },
    {
     "data": {
      "image/png": "[encoded data removed]",
      "text/plain": [
       "<Figure size 432x288 with 1 Axes>"
      ]
     },
     "metadata": {
      "needs_background": "light"
     },
     "output_type": "display_data"
    }
   ],
   "source": [
    "df_avg_loan.plot(x ='district_id', y='avg_loan', kind = 'scatter', grid = True)"
   ]
  },
  {
   "cell_type": "markdown",
   "metadata": {},
   "source": [
    "The distribution of average loans is quite homogeneous and there is mainly just one outlier (district_id = 46). Especially compared to the districts close by. So this should be watched."
   ]
  },
  {
   "cell_type": "markdown",
   "metadata": {},
   "source": [
    "### Question 4\n",
    "Build an ML model that classifies if a certain loan will be paid or not. You can use any classification model you think is suitable (hint: there are also some out of the box available in MLlib). Note that the goal is not to get the accuracy as high as possible – it is completely OK to choose a simple model and not spend days on parameter tuning. Think about questions like:\n",
    "\n",
    "- a) Which model do you choose and why?\n",
    "- b) How do you do the training and how do you measure the model accuracy?\n",
    "- c) Which are the variables contributing the most to the prediction?\n",
    "- d) How accurate does your model get?\n",
    "- e) If you think a higher accuracy is possible, what would be the next steps you take?\n",
    "\n",
    "I want to put together a small dataset, which I think could indicate if a loan gets paid or not. In the loan table I want to keep most as it is, exept I just keep the year of the date the loan was granted and throw away the loan_id."
   ]
  },
  {
   "cell_type": "code",
   "execution_count": 21,
   "metadata": {},
   "outputs": [],
   "source": [
    "# keep just year of the loan opening\n",
    "df_loan['loan_year'] = df_loan.date.str.split(pat = \"-\", expand=True)[0].apply(int)"
   ]
  },
  {
   "cell_type": "markdown",
   "metadata": {},
   "source": [
    "We want to check if the loan will be paid or not. This is a binary classification. So 'status' in 'df_loan' is our target variable and contains four classifications\n",
    "\n",
    "- loan paid back in the past\n",
    "- loan paid back in the present\n",
    "- loan not paid back in the past\n",
    "- loan not paid back in the present\n",
    "\n",
    "To know if a loan will be paid back I classifiy the first two as 1 and the last two as 0"
   ]
  },
  {
   "cell_type": "code",
   "execution_count": 22,
   "metadata": {},
   "outputs": [],
   "source": [
    "# encode status\n",
    "df_loan.status = df_loan.status.map({'A': 1, 'B': 0,'C': 1, 'D': 0}) # 1=paid, 0=not paid\n",
    "df_loan.drop(['loan_id','date'], axis=1, inplace=True)"
   ]
  },
  {
   "cell_type": "code",
   "execution_count": 23,
   "metadata": {},
   "outputs": [
    {
     "data": {
      "text/html": [
       "<div>\n",
       "<style scoped>\n",
       "    .dataframe tbody tr th:only-of-type {\n",
       "        vertical-align: middle;\n",
       "    }\n",
       "\n",
       "    .dataframe tbody tr th {\n",
       "        vertical-align: top;\n",
       "    }\n",
       "\n",
       "    .dataframe thead th {\n",
       "        text-align: right;\n",
       "    }\n",
       "</style>\n",
       "<table border=\"1\" class=\"dataframe\">\n",
       "  <thead>\n",
       "    <tr style=\"text-align: right;\">\n",
       "      <th></th>\n",
       "      <th>account_id</th>\n",
       "      <th>amount</th>\n",
       "      <th>duration</th>\n",
       "      <th>payments</th>\n",
       "      <th>status</th>\n",
       "      <th>loan_year</th>\n",
       "    </tr>\n",
       "  </thead>\n",
       "  <tbody>\n",
       "    <tr>\n",
       "      <th>0</th>\n",
       "      <td>2</td>\n",
       "      <td>80952</td>\n",
       "      <td>24</td>\n",
       "      <td>3373.0</td>\n",
       "      <td>1</td>\n",
       "      <td>1994</td>\n",
       "    </tr>\n",
       "    <tr>\n",
       "      <th>1</th>\n",
       "      <td>19</td>\n",
       "      <td>30276</td>\n",
       "      <td>12</td>\n",
       "      <td>2523.0</td>\n",
       "      <td>0</td>\n",
       "      <td>1996</td>\n",
       "    </tr>\n",
       "    <tr>\n",
       "      <th>2</th>\n",
       "      <td>25</td>\n",
       "      <td>30276</td>\n",
       "      <td>12</td>\n",
       "      <td>2523.0</td>\n",
       "      <td>1</td>\n",
       "      <td>1997</td>\n",
       "    </tr>\n",
       "    <tr>\n",
       "      <th>3</th>\n",
       "      <td>37</td>\n",
       "      <td>318480</td>\n",
       "      <td>60</td>\n",
       "      <td>5308.0</td>\n",
       "      <td>0</td>\n",
       "      <td>1998</td>\n",
       "    </tr>\n",
       "    <tr>\n",
       "      <th>4</th>\n",
       "      <td>38</td>\n",
       "      <td>110736</td>\n",
       "      <td>48</td>\n",
       "      <td>2307.0</td>\n",
       "      <td>1</td>\n",
       "      <td>1998</td>\n",
       "    </tr>\n",
       "  </tbody>\n",
       "</table>\n",
       "</div>"
      ],
      "text/plain": [
       "   account_id  amount  duration  payments  status  loan_year\n",
       "0           2   80952        24    3373.0       1       1994\n",
       "1          19   30276        12    2523.0       0       1996\n",
       "2          25   30276        12    2523.0       1       1997\n",
       "3          37  318480        60    5308.0       0       1998\n",
       "4          38  110736        48    2307.0       1       1998"
      ]
     },
     "execution_count": 23,
     "metadata": {},
     "output_type": "execute_result"
    }
   ],
   "source": [
    "df_loan.head()"
   ]
  },
  {
   "cell_type": "markdown",
   "metadata": {},
   "source": [
    "df_client has properties of a client, which could tell, if he pays back his loan"
   ]
  },
  {
   "cell_type": "code",
   "execution_count": 24,
   "metadata": {},
   "outputs": [
    {
     "data": {
      "text/html": [
       "<div>\n",
       "<style scoped>\n",
       "    .dataframe tbody tr th:only-of-type {\n",
       "        vertical-align: middle;\n",
       "    }\n",
       "\n",
       "    .dataframe tbody tr th {\n",
       "        vertical-align: top;\n",
       "    }\n",
       "\n",
       "    .dataframe thead th {\n",
       "        text-align: right;\n",
       "    }\n",
       "</style>\n",
       "<table border=\"1\" class=\"dataframe\">\n",
       "  <thead>\n",
       "    <tr style=\"text-align: right;\">\n",
       "      <th></th>\n",
       "      <th>client_id</th>\n",
       "      <th>gender</th>\n",
       "      <th>birth_date</th>\n",
       "      <th>district_id</th>\n",
       "    </tr>\n",
       "  </thead>\n",
       "  <tbody>\n",
       "    <tr>\n",
       "      <th>0</th>\n",
       "      <td>1</td>\n",
       "      <td>F</td>\n",
       "      <td>1970-12-13</td>\n",
       "      <td>18</td>\n",
       "    </tr>\n",
       "    <tr>\n",
       "      <th>1</th>\n",
       "      <td>2</td>\n",
       "      <td>M</td>\n",
       "      <td>1945-02-04</td>\n",
       "      <td>1</td>\n",
       "    </tr>\n",
       "    <tr>\n",
       "      <th>2</th>\n",
       "      <td>3</td>\n",
       "      <td>F</td>\n",
       "      <td>1940-10-09</td>\n",
       "      <td>1</td>\n",
       "    </tr>\n",
       "    <tr>\n",
       "      <th>3</th>\n",
       "      <td>4</td>\n",
       "      <td>M</td>\n",
       "      <td>1956-12-01</td>\n",
       "      <td>5</td>\n",
       "    </tr>\n",
       "    <tr>\n",
       "      <th>4</th>\n",
       "      <td>5</td>\n",
       "      <td>F</td>\n",
       "      <td>1960-07-03</td>\n",
       "      <td>5</td>\n",
       "    </tr>\n",
       "  </tbody>\n",
       "</table>\n",
       "</div>"
      ],
      "text/plain": [
       "   client_id gender  birth_date  district_id\n",
       "0          1      F  1970-12-13           18\n",
       "1          2      M  1945-02-04            1\n",
       "2          3      F  1940-10-09            1\n",
       "3          4      M  1956-12-01            5\n",
       "4          5      F  1960-07-03            5"
      ]
     },
     "execution_count": 24,
     "metadata": {},
     "output_type": "execute_result"
    }
   ],
   "source": [
    "df_client.head()"
   ]
  },
  {
   "cell_type": "markdown",
   "metadata": {},
   "source": [
    "First I want to have the birth year"
   ]
  },
  {
   "cell_type": "code",
   "execution_count": 25,
   "metadata": {},
   "outputs": [],
   "source": [
    "df_client['birth_year'] = df_client.birth_date.str.split(pat = \"-\", expand=True)[0].apply(int)"
   ]
  },
  {
   "cell_type": "markdown",
   "metadata": {},
   "source": [
    "Next I want to encode gender and district ID"
   ]
  },
  {
   "cell_type": "code",
   "execution_count": 26,
   "metadata": {},
   "outputs": [
    {
     "data": {
      "text/html": [
       "<div>\n",
       "<style scoped>\n",
       "    .dataframe tbody tr th:only-of-type {\n",
       "        vertical-align: middle;\n",
       "    }\n",
       "\n",
       "    .dataframe tbody tr th {\n",
       "        vertical-align: top;\n",
       "    }\n",
       "\n",
       "    .dataframe thead th {\n",
       "        text-align: right;\n",
       "    }\n",
       "</style>\n",
       "<table border=\"1\" class=\"dataframe\">\n",
       "  <thead>\n",
       "    <tr style=\"text-align: right;\">\n",
       "      <th></th>\n",
       "      <th>client_id</th>\n",
       "      <th>birth_year</th>\n",
       "      <th>gender_F</th>\n",
       "      <th>gender_M</th>\n",
       "      <th>D_1</th>\n",
       "      <th>D_2</th>\n",
       "      <th>D_3</th>\n",
       "      <th>D_4</th>\n",
       "      <th>D_5</th>\n",
       "      <th>D_6</th>\n",
       "      <th>...</th>\n",
       "      <th>D_68</th>\n",
       "      <th>D_69</th>\n",
       "      <th>D_70</th>\n",
       "      <th>D_71</th>\n",
       "      <th>D_72</th>\n",
       "      <th>D_73</th>\n",
       "      <th>D_74</th>\n",
       "      <th>D_75</th>\n",
       "      <th>D_76</th>\n",
       "      <th>D_77</th>\n",
       "    </tr>\n",
       "  </thead>\n",
       "  <tbody>\n",
       "    <tr>\n",
       "      <th>0</th>\n",
       "      <td>1</td>\n",
       "      <td>1970</td>\n",
       "      <td>1</td>\n",
       "      <td>0</td>\n",
       "      <td>0</td>\n",
       "      <td>0</td>\n",
       "      <td>0</td>\n",
       "      <td>0</td>\n",
       "      <td>0</td>\n",
       "      <td>0</td>\n",
       "      <td>...</td>\n",
       "      <td>0</td>\n",
       "      <td>0</td>\n",
       "      <td>0</td>\n",
       "      <td>0</td>\n",
       "      <td>0</td>\n",
       "      <td>0</td>\n",
       "      <td>0</td>\n",
       "      <td>0</td>\n",
       "      <td>0</td>\n",
       "      <td>0</td>\n",
       "    </tr>\n",
       "    <tr>\n",
       "      <th>1</th>\n",
       "      <td>2</td>\n",
       "      <td>1945</td>\n",
       "      <td>0</td>\n",
       "      <td>1</td>\n",
       "      <td>1</td>\n",
       "      <td>0</td>\n",
       "      <td>0</td>\n",
       "      <td>0</td>\n",
       "      <td>0</td>\n",
       "      <td>0</td>\n",
       "      <td>...</td>\n",
       "      <td>0</td>\n",
       "      <td>0</td>\n",
       "      <td>0</td>\n",
       "      <td>0</td>\n",
       "      <td>0</td>\n",
       "      <td>0</td>\n",
       "      <td>0</td>\n",
       "      <td>0</td>\n",
       "      <td>0</td>\n",
       "      <td>0</td>\n",
       "    </tr>\n",
       "    <tr>\n",
       "      <th>2</th>\n",
       "      <td>3</td>\n",
       "      <td>1940</td>\n",
       "      <td>1</td>\n",
       "      <td>0</td>\n",
       "      <td>1</td>\n",
       "      <td>0</td>\n",
       "      <td>0</td>\n",
       "      <td>0</td>\n",
       "      <td>0</td>\n",
       "      <td>0</td>\n",
       "      <td>...</td>\n",
       "      <td>0</td>\n",
       "      <td>0</td>\n",
       "      <td>0</td>\n",
       "      <td>0</td>\n",
       "      <td>0</td>\n",
       "      <td>0</td>\n",
       "      <td>0</td>\n",
       "      <td>0</td>\n",
       "      <td>0</td>\n",
       "      <td>0</td>\n",
       "    </tr>\n",
       "    <tr>\n",
       "      <th>3</th>\n",
       "      <td>4</td>\n",
       "      <td>1956</td>\n",
       "      <td>0</td>\n",
       "      <td>1</td>\n",
       "      <td>0</td>\n",
       "      <td>0</td>\n",
       "      <td>0</td>\n",
       "      <td>0</td>\n",
       "      <td>1</td>\n",
       "      <td>0</td>\n",
       "      <td>...</td>\n",
       "      <td>0</td>\n",
       "      <td>0</td>\n",
       "      <td>0</td>\n",
       "      <td>0</td>\n",
       "      <td>0</td>\n",
       "      <td>0</td>\n",
       "      <td>0</td>\n",
       "      <td>0</td>\n",
       "      <td>0</td>\n",
       "      <td>0</td>\n",
       "    </tr>\n",
       "    <tr>\n",
       "      <th>4</th>\n",
       "      <td>5</td>\n",
       "      <td>1960</td>\n",
       "      <td>1</td>\n",
       "      <td>0</td>\n",
       "      <td>0</td>\n",
       "      <td>0</td>\n",
       "      <td>0</td>\n",
       "      <td>0</td>\n",
       "      <td>1</td>\n",
       "      <td>0</td>\n",
       "      <td>...</td>\n",
       "      <td>0</td>\n",
       "      <td>0</td>\n",
       "      <td>0</td>\n",
       "      <td>0</td>\n",
       "      <td>0</td>\n",
       "      <td>0</td>\n",
       "      <td>0</td>\n",
       "      <td>0</td>\n",
       "      <td>0</td>\n",
       "      <td>0</td>\n",
       "    </tr>\n",
       "  </tbody>\n",
       "</table>\n",
       "<p>5 rows × 81 columns</p>\n",
       "</div>"
      ],
      "text/plain": [
       "   client_id  birth_year  gender_F  gender_M  D_1  D_2  D_3  D_4  D_5  D_6  \\\n",
       "0          1        1970         1         0    0    0    0    0    0    0   \n",
       "1          2        1945         0         1    1    0    0    0    0    0   \n",
       "2          3        1940         1         0    1    0    0    0    0    0   \n",
       "3          4        1956         0         1    0    0    0    0    1    0   \n",
       "4          5        1960         1         0    0    0    0    0    1    0   \n",
       "\n",
       "   ...  D_68  D_69  D_70  D_71  D_72  D_73  D_74  D_75  D_76  D_77  \n",
       "0  ...     0     0     0     0     0     0     0     0     0     0  \n",
       "1  ...     0     0     0     0     0     0     0     0     0     0  \n",
       "2  ...     0     0     0     0     0     0     0     0     0     0  \n",
       "3  ...     0     0     0     0     0     0     0     0     0     0  \n",
       "4  ...     0     0     0     0     0     0     0     0     0     0  \n",
       "\n",
       "[5 rows x 81 columns]"
      ]
     },
     "execution_count": 26,
     "metadata": {},
     "output_type": "execute_result"
    }
   ],
   "source": [
    "df_client_new = pd.concat([df_client, pd.get_dummies(df_client['gender'], prefix='gender')], axis=1)\n",
    "df_client_new = pd.concat([df_client_new, pd.get_dummies(df_client['district_id'], prefix='D')], axis=1)\n",
    "df_client_new.drop(['gender','birth_date','district_id'], axis=1, inplace = True)\n",
    "df_client_new.head()\n"
   ]
  },
  {
   "cell_type": "markdown",
   "metadata": {},
   "source": [
    "And combine df_loan and df_client with the help of df_disp"
   ]
  },
  {
   "cell_type": "code",
   "execution_count": 27,
   "metadata": {},
   "outputs": [],
   "source": [
    "df_final =pd.merge(df_loan, df_disp, on='account_id', how='left')\n",
    "df_final =pd.merge(df_final, df_client_new, on='client_id', how='left')"
   ]
  },
  {
   "cell_type": "code",
   "execution_count": 28,
   "metadata": {},
   "outputs": [
    {
     "data": {
      "text/html": [
       "<div>\n",
       "<style scoped>\n",
       "    .dataframe tbody tr th:only-of-type {\n",
       "        vertical-align: middle;\n",
       "    }\n",
       "\n",
       "    .dataframe tbody tr th {\n",
       "        vertical-align: top;\n",
       "    }\n",
       "\n",
       "    .dataframe thead th {\n",
       "        text-align: right;\n",
       "    }\n",
       "</style>\n",
       "<table border=\"1\" class=\"dataframe\">\n",
       "  <thead>\n",
       "    <tr style=\"text-align: right;\">\n",
       "      <th></th>\n",
       "      <th>amount</th>\n",
       "      <th>duration</th>\n",
       "      <th>payments</th>\n",
       "      <th>status</th>\n",
       "      <th>loan_year</th>\n",
       "      <th>birth_year</th>\n",
       "      <th>gender_F</th>\n",
       "      <th>gender_M</th>\n",
       "      <th>D_1</th>\n",
       "      <th>D_2</th>\n",
       "      <th>...</th>\n",
       "      <th>D_68</th>\n",
       "      <th>D_69</th>\n",
       "      <th>D_70</th>\n",
       "      <th>D_71</th>\n",
       "      <th>D_72</th>\n",
       "      <th>D_73</th>\n",
       "      <th>D_74</th>\n",
       "      <th>D_75</th>\n",
       "      <th>D_76</th>\n",
       "      <th>D_77</th>\n",
       "    </tr>\n",
       "  </thead>\n",
       "  <tbody>\n",
       "    <tr>\n",
       "      <th>0</th>\n",
       "      <td>80952</td>\n",
       "      <td>24</td>\n",
       "      <td>3373.0</td>\n",
       "      <td>1</td>\n",
       "      <td>1994</td>\n",
       "      <td>1945</td>\n",
       "      <td>0</td>\n",
       "      <td>1</td>\n",
       "      <td>1</td>\n",
       "      <td>0</td>\n",
       "      <td>...</td>\n",
       "      <td>0</td>\n",
       "      <td>0</td>\n",
       "      <td>0</td>\n",
       "      <td>0</td>\n",
       "      <td>0</td>\n",
       "      <td>0</td>\n",
       "      <td>0</td>\n",
       "      <td>0</td>\n",
       "      <td>0</td>\n",
       "      <td>0</td>\n",
       "    </tr>\n",
       "    <tr>\n",
       "      <th>1</th>\n",
       "      <td>80952</td>\n",
       "      <td>24</td>\n",
       "      <td>3373.0</td>\n",
       "      <td>1</td>\n",
       "      <td>1994</td>\n",
       "      <td>1940</td>\n",
       "      <td>1</td>\n",
       "      <td>0</td>\n",
       "      <td>1</td>\n",
       "      <td>0</td>\n",
       "      <td>...</td>\n",
       "      <td>0</td>\n",
       "      <td>0</td>\n",
       "      <td>0</td>\n",
       "      <td>0</td>\n",
       "      <td>0</td>\n",
       "      <td>0</td>\n",
       "      <td>0</td>\n",
       "      <td>0</td>\n",
       "      <td>0</td>\n",
       "      <td>0</td>\n",
       "    </tr>\n",
       "    <tr>\n",
       "      <th>2</th>\n",
       "      <td>30276</td>\n",
       "      <td>12</td>\n",
       "      <td>2523.0</td>\n",
       "      <td>0</td>\n",
       "      <td>1996</td>\n",
       "      <td>1939</td>\n",
       "      <td>1</td>\n",
       "      <td>0</td>\n",
       "      <td>0</td>\n",
       "      <td>0</td>\n",
       "      <td>...</td>\n",
       "      <td>0</td>\n",
       "      <td>0</td>\n",
       "      <td>0</td>\n",
       "      <td>0</td>\n",
       "      <td>0</td>\n",
       "      <td>0</td>\n",
       "      <td>0</td>\n",
       "      <td>0</td>\n",
       "      <td>0</td>\n",
       "      <td>0</td>\n",
       "    </tr>\n",
       "    <tr>\n",
       "      <th>3</th>\n",
       "      <td>30276</td>\n",
       "      <td>12</td>\n",
       "      <td>2523.0</td>\n",
       "      <td>1</td>\n",
       "      <td>1997</td>\n",
       "      <td>1962</td>\n",
       "      <td>0</td>\n",
       "      <td>1</td>\n",
       "      <td>0</td>\n",
       "      <td>0</td>\n",
       "      <td>...</td>\n",
       "      <td>1</td>\n",
       "      <td>0</td>\n",
       "      <td>0</td>\n",
       "      <td>0</td>\n",
       "      <td>0</td>\n",
       "      <td>0</td>\n",
       "      <td>0</td>\n",
       "      <td>0</td>\n",
       "      <td>0</td>\n",
       "      <td>0</td>\n",
       "    </tr>\n",
       "    <tr>\n",
       "      <th>4</th>\n",
       "      <td>318480</td>\n",
       "      <td>60</td>\n",
       "      <td>5308.0</td>\n",
       "      <td>0</td>\n",
       "      <td>1998</td>\n",
       "      <td>1952</td>\n",
       "      <td>0</td>\n",
       "      <td>1</td>\n",
       "      <td>0</td>\n",
       "      <td>0</td>\n",
       "      <td>...</td>\n",
       "      <td>0</td>\n",
       "      <td>0</td>\n",
       "      <td>0</td>\n",
       "      <td>0</td>\n",
       "      <td>0</td>\n",
       "      <td>0</td>\n",
       "      <td>0</td>\n",
       "      <td>0</td>\n",
       "      <td>0</td>\n",
       "      <td>0</td>\n",
       "    </tr>\n",
       "  </tbody>\n",
       "</table>\n",
       "<p>5 rows × 85 columns</p>\n",
       "</div>"
      ],
      "text/plain": [
       "   amount  duration  payments  status  loan_year  birth_year  gender_F  \\\n",
       "0   80952        24    3373.0       1       1994        1945         0   \n",
       "1   80952        24    3373.0       1       1994        1940         1   \n",
       "2   30276        12    2523.0       0       1996        1939         1   \n",
       "3   30276        12    2523.0       1       1997        1962         0   \n",
       "4  318480        60    5308.0       0       1998        1952         0   \n",
       "\n",
       "   gender_M  D_1  D_2  ...  D_68  D_69  D_70  D_71  D_72  D_73  D_74  D_75  \\\n",
       "0         1    1    0  ...     0     0     0     0     0     0     0     0   \n",
       "1         0    1    0  ...     0     0     0     0     0     0     0     0   \n",
       "2         0    0    0  ...     0     0     0     0     0     0     0     0   \n",
       "3         1    0    0  ...     1     0     0     0     0     0     0     0   \n",
       "4         1    0    0  ...     0     0     0     0     0     0     0     0   \n",
       "\n",
       "   D_76  D_77  \n",
       "0     0     0  \n",
       "1     0     0  \n",
       "2     0     0  \n",
       "3     0     0  \n",
       "4     0     0  \n",
       "\n",
       "[5 rows x 85 columns]"
      ]
     },
     "execution_count": 28,
     "metadata": {},
     "output_type": "execute_result"
    }
   ],
   "source": [
    "df_final.drop(['disp_id','type', 'client_id', 'account_id'], axis=1, inplace=True) # delete features of df_disp\n",
    "df_final.head()"
   ]
  },
  {
   "cell_type": "code",
   "execution_count": 29,
   "metadata": {},
   "outputs": [
    {
     "data": {
      "text/plain": [
       "0    1\n",
       "1    1\n",
       "2    0\n",
       "3    1\n",
       "4    0\n",
       "Name: status, dtype: int64"
      ]
     },
     "execution_count": 29,
     "metadata": {},
     "output_type": "execute_result"
    }
   ],
   "source": [
    "# split dependent and independent variables\n",
    "df_features = df_final.drop(['status'], axis=1)\n",
    "df_outcome = df_final['status']\n",
    "df_outcome.head()"
   ]
  },
  {
   "cell_type": "markdown",
   "metadata": {},
   "source": [
    "I use Adaboost Classifier with the default weak learner Decision Tree Classifier, which is suitable for binary classification. AdaBoost classifier is a boosting classifier, which builds a strong classifier by combining multiple poorly performing classifiers to get a strong classifier."
   ]
  },
  {
   "cell_type": "code",
   "execution_count": 30,
   "metadata": {},
   "outputs": [],
   "source": [
    "from sklearn.ensemble import AdaBoostClassifier\n",
    "from sklearn.model_selection import train_test_split\n",
    "from sklearn import metrics\n",
    "from sklearn.preprocessing import MinMaxScaler"
   ]
  },
  {
   "cell_type": "code",
   "execution_count": 31,
   "metadata": {},
   "outputs": [
    {
     "data": {
      "text/html": [
       "<div>\n",
       "<style scoped>\n",
       "    .dataframe tbody tr th:only-of-type {\n",
       "        vertical-align: middle;\n",
       "    }\n",
       "\n",
       "    .dataframe tbody tr th {\n",
       "        vertical-align: top;\n",
       "    }\n",
       "\n",
       "    .dataframe thead th {\n",
       "        text-align: right;\n",
       "    }\n",
       "</style>\n",
       "<table border=\"1\" class=\"dataframe\">\n",
       "  <thead>\n",
       "    <tr style=\"text-align: right;\">\n",
       "      <th></th>\n",
       "      <th>amount</th>\n",
       "      <th>duration</th>\n",
       "      <th>payments</th>\n",
       "      <th>loan_year</th>\n",
       "      <th>birth_year</th>\n",
       "      <th>gender_F</th>\n",
       "      <th>gender_M</th>\n",
       "      <th>D_1</th>\n",
       "      <th>D_2</th>\n",
       "      <th>D_3</th>\n",
       "      <th>...</th>\n",
       "      <th>D_68</th>\n",
       "      <th>D_69</th>\n",
       "      <th>D_70</th>\n",
       "      <th>D_71</th>\n",
       "      <th>D_72</th>\n",
       "      <th>D_73</th>\n",
       "      <th>D_74</th>\n",
       "      <th>D_75</th>\n",
       "      <th>D_76</th>\n",
       "      <th>D_77</th>\n",
       "    </tr>\n",
       "  </thead>\n",
       "  <tbody>\n",
       "    <tr>\n",
       "      <th>0</th>\n",
       "      <td>0.129680</td>\n",
       "      <td>0.25</td>\n",
       "      <td>0.319488</td>\n",
       "      <td>0.2</td>\n",
       "      <td>0.215686</td>\n",
       "      <td>0.0</td>\n",
       "      <td>1.0</td>\n",
       "      <td>1.0</td>\n",
       "      <td>0.0</td>\n",
       "      <td>0.0</td>\n",
       "      <td>...</td>\n",
       "      <td>0.0</td>\n",
       "      <td>0.0</td>\n",
       "      <td>0.0</td>\n",
       "      <td>0.0</td>\n",
       "      <td>0.0</td>\n",
       "      <td>0.0</td>\n",
       "      <td>0.0</td>\n",
       "      <td>0.0</td>\n",
       "      <td>0.0</td>\n",
       "      <td>0.0</td>\n",
       "    </tr>\n",
       "    <tr>\n",
       "      <th>1</th>\n",
       "      <td>0.129680</td>\n",
       "      <td>0.25</td>\n",
       "      <td>0.319488</td>\n",
       "      <td>0.2</td>\n",
       "      <td>0.117647</td>\n",
       "      <td>1.0</td>\n",
       "      <td>0.0</td>\n",
       "      <td>1.0</td>\n",
       "      <td>0.0</td>\n",
       "      <td>0.0</td>\n",
       "      <td>...</td>\n",
       "      <td>0.0</td>\n",
       "      <td>0.0</td>\n",
       "      <td>0.0</td>\n",
       "      <td>0.0</td>\n",
       "      <td>0.0</td>\n",
       "      <td>0.0</td>\n",
       "      <td>0.0</td>\n",
       "      <td>0.0</td>\n",
       "      <td>0.0</td>\n",
       "      <td>0.0</td>\n",
       "    </tr>\n",
       "    <tr>\n",
       "      <th>2</th>\n",
       "      <td>0.043179</td>\n",
       "      <td>0.00</td>\n",
       "      <td>0.231001</td>\n",
       "      <td>0.6</td>\n",
       "      <td>0.098039</td>\n",
       "      <td>1.0</td>\n",
       "      <td>0.0</td>\n",
       "      <td>0.0</td>\n",
       "      <td>0.0</td>\n",
       "      <td>0.0</td>\n",
       "      <td>...</td>\n",
       "      <td>0.0</td>\n",
       "      <td>0.0</td>\n",
       "      <td>0.0</td>\n",
       "      <td>0.0</td>\n",
       "      <td>0.0</td>\n",
       "      <td>0.0</td>\n",
       "      <td>0.0</td>\n",
       "      <td>0.0</td>\n",
       "      <td>0.0</td>\n",
       "      <td>0.0</td>\n",
       "    </tr>\n",
       "    <tr>\n",
       "      <th>3</th>\n",
       "      <td>0.043179</td>\n",
       "      <td>0.00</td>\n",
       "      <td>0.231001</td>\n",
       "      <td>0.8</td>\n",
       "      <td>0.549020</td>\n",
       "      <td>0.0</td>\n",
       "      <td>1.0</td>\n",
       "      <td>0.0</td>\n",
       "      <td>0.0</td>\n",
       "      <td>0.0</td>\n",
       "      <td>...</td>\n",
       "      <td>1.0</td>\n",
       "      <td>0.0</td>\n",
       "      <td>0.0</td>\n",
       "      <td>0.0</td>\n",
       "      <td>0.0</td>\n",
       "      <td>0.0</td>\n",
       "      <td>0.0</td>\n",
       "      <td>0.0</td>\n",
       "      <td>0.0</td>\n",
       "      <td>0.0</td>\n",
       "    </tr>\n",
       "    <tr>\n",
       "      <th>4</th>\n",
       "      <td>0.535129</td>\n",
       "      <td>1.00</td>\n",
       "      <td>0.520924</td>\n",
       "      <td>1.0</td>\n",
       "      <td>0.352941</td>\n",
       "      <td>0.0</td>\n",
       "      <td>1.0</td>\n",
       "      <td>0.0</td>\n",
       "      <td>0.0</td>\n",
       "      <td>0.0</td>\n",
       "      <td>...</td>\n",
       "      <td>0.0</td>\n",
       "      <td>0.0</td>\n",
       "      <td>0.0</td>\n",
       "      <td>0.0</td>\n",
       "      <td>0.0</td>\n",
       "      <td>0.0</td>\n",
       "      <td>0.0</td>\n",
       "      <td>0.0</td>\n",
       "      <td>0.0</td>\n",
       "      <td>0.0</td>\n",
       "    </tr>\n",
       "  </tbody>\n",
       "</table>\n",
       "<p>5 rows × 84 columns</p>\n",
       "</div>"
      ],
      "text/plain": [
       "     amount  duration  payments  loan_year  birth_year  gender_F  gender_M  \\\n",
       "0  0.129680      0.25  0.319488        0.2    0.215686       0.0       1.0   \n",
       "1  0.129680      0.25  0.319488        0.2    0.117647       1.0       0.0   \n",
       "2  0.043179      0.00  0.231001        0.6    0.098039       1.0       0.0   \n",
       "3  0.043179      0.00  0.231001        0.8    0.549020       0.0       1.0   \n",
       "4  0.535129      1.00  0.520924        1.0    0.352941       0.0       1.0   \n",
       "\n",
       "   D_1  D_2  D_3  ...  D_68  D_69  D_70  D_71  D_72  D_73  D_74  D_75  D_76  \\\n",
       "0  1.0  0.0  0.0  ...   0.0   0.0   0.0   0.0   0.0   0.0   0.0   0.0   0.0   \n",
       "1  1.0  0.0  0.0  ...   0.0   0.0   0.0   0.0   0.0   0.0   0.0   0.0   0.0   \n",
       "2  0.0  0.0  0.0  ...   0.0   0.0   0.0   0.0   0.0   0.0   0.0   0.0   0.0   \n",
       "3  0.0  0.0  0.0  ...   1.0   0.0   0.0   0.0   0.0   0.0   0.0   0.0   0.0   \n",
       "4  0.0  0.0  0.0  ...   0.0   0.0   0.0   0.0   0.0   0.0   0.0   0.0   0.0   \n",
       "\n",
       "   D_77  \n",
       "0   0.0  \n",
       "1   0.0  \n",
       "2   0.0  \n",
       "3   0.0  \n",
       "4   0.0  \n",
       "\n",
       "[5 rows x 84 columns]"
      ]
     },
     "execution_count": 31,
     "metadata": {},
     "output_type": "execute_result"
    }
   ],
   "source": [
    "# scale data to reduce dominant influence of large features\n",
    "scaler = MinMaxScaler()\n",
    "df_features[df_features.columns] = scaler.fit_transform(df_features[df_features.columns])\n",
    "df_features.head() # fast check how the data looks like"
   ]
  },
  {
   "cell_type": "code",
   "execution_count": 32,
   "metadata": {},
   "outputs": [],
   "source": [
    "# create the train and test data\n",
    "X_train, X_test, y_train, y_test = train_test_split(df_features, df_outcome, test_size=0.2, random_state=42)"
   ]
  },
  {
   "cell_type": "code",
   "execution_count": 33,
   "metadata": {},
   "outputs": [],
   "source": [
    "# Create adaboost classifer object\n",
    "abc = AdaBoostClassifier(n_estimators=500, learning_rate=1)\n",
    "# Train Adaboost Classifer\n",
    "model = abc.fit(X_train, y_train)\n",
    "#Predict the response for test dataset\n",
    "y_pred = model.predict(X_test)"
   ]
  },
  {
   "cell_type": "code",
   "execution_count": 34,
   "metadata": {},
   "outputs": [
    {
     "name": "stdout",
     "output_type": "stream",
     "text": [
      "Accuracy: 0.891566265060241\n"
     ]
    }
   ],
   "source": [
    "print(\"Accuracy:\",metrics.accuracy_score(y_test, y_pred))"
   ]
  },
  {
   "cell_type": "markdown",
   "metadata": {},
   "source": [
    "An easy way to measure the quality of a classification is the accuracy the model has. So 89% sounds good. But lets look at the distribution of paid and not-paid loans."
   ]
  },
  {
   "cell_type": "code",
   "execution_count": 35,
   "metadata": {
    "scrolled": true
   },
   "outputs": [
    {
     "name": "stdout",
     "output_type": "stream",
     "text": [
      "The ratio of loans paid back is 0.91 while the ratio of the loans not paid back is 0.09.\n"
     ]
    },
    {
     "data": {
      "image/png": "[encoded data removed]",
      "text/plain": [
       "<Figure size 432x288 with 1 Axes>"
      ]
     },
     "metadata": {
      "needs_background": "light"
     },
     "output_type": "display_data"
    }
   ],
   "source": [
    "df_final['status'].hist(bins=2)\n",
    "paid = df_final[df_final['status']==1].shape[0] # paid loans in the past and now\n",
    "not_paid = df_final[df_final['status']==0].shape[0] # not paid loans in the past and now\n",
    "total = df_final.shape[0] # loans count\n",
    "print('The ratio of loans paid back is {:.2f} while the ratio of the loans not paid back is {:.2f}.'\n",
    "     .format(paid/total, not_paid/total))"
   ]
  },
  {
   "cell_type": "markdown",
   "metadata": {},
   "source": [
    "So by calling all loans \"paid-back\", I would have an accuracy of 91%, better than the Adaboost model! Of course this \"model\" is nonsense, but this is what you get, when the distribution is far from being equal. The F1 score (harmonic mean of precision and recall) is a better metric here."
   ]
  },
  {
   "cell_type": "code",
   "execution_count": 36,
   "metadata": {},
   "outputs": [
    {
     "name": "stdout",
     "output_type": "stream",
     "text": [
      "F1 score: 0.9415584415584416\n"
     ]
    }
   ],
   "source": [
    "print(\"F1 score:\",metrics.f1_score(y_test, y_pred))"
   ]
  },
  {
   "cell_type": "markdown",
   "metadata": {},
   "source": [
    "The F1 score is 0.94 - surprisingly high - for the Adaboost model, while it would be 0 for my \"all-loans-are-paid-back\" model. So the F1 score is a much better metric to score the model.\n",
    "\n",
    "Now lets see which features contribute the most to the classification"
   ]
  },
  {
   "cell_type": "code",
   "execution_count": 38,
   "metadata": {},
   "outputs": [
    {
     "data": {
      "text/plain": [
       "array([0.32 , 0.004, 0.336, 0.024, 0.166, 0.004, 0.002, 0.006, 0.   ,\n",
       "       0.002, 0.004, 0.   , 0.   , 0.   , 0.006, 0.002, 0.002, 0.   ,\n",
       "       0.002, 0.002, 0.002, 0.   , 0.002, 0.002, 0.002, 0.002, 0.002,\n",
       "       0.002, 0.002, 0.002, 0.004, 0.   , 0.   , 0.002, 0.002, 0.002,\n",
       "       0.002, 0.002, 0.002, 0.   , 0.002, 0.   , 0.002, 0.002, 0.002,\n",
       "       0.004, 0.002, 0.002, 0.   , 0.002, 0.   , 0.002, 0.002, 0.002,\n",
       "       0.002, 0.   , 0.002, 0.002, 0.002, 0.002, 0.002, 0.002, 0.   ,\n",
       "       0.002, 0.002, 0.002, 0.004, 0.002, 0.002, 0.002, 0.004, 0.   ,\n",
       "       0.002, 0.004, 0.   , 0.002, 0.   , 0.   , 0.002, 0.008, 0.002,\n",
       "       0.002, 0.002, 0.002])"
      ]
     },
     "execution_count": 38,
     "metadata": {},
     "output_type": "execute_result"
    }
   ],
   "source": [
    "model.feature_importances_"
   ]
  },
  {
   "cell_type": "code",
   "execution_count": 58,
   "metadata": {},
   "outputs": [
    {
     "data": {
      "image/png": "[encoded data removed]",
      "text/plain": [
       "<Figure size 1152x216 with 1 Axes>"
      ]
     },
     "metadata": {
      "needs_background": "light"
     },
     "output_type": "display_data"
    }
   ],
   "source": [
    "plt.figure(figsize=(16,3))\n",
    "plt.plot(model.feature_importances_, label='feature importance')\n",
    "plt.plot(np.cumsum(model.feature_importances_), label='cumulative sum')\n",
    "plt.xticks(np.arange(df_features.shape[1]), df_features.columns.tolist(), rotation=90);\n",
    "plt.grid();\n",
    "for i in range(5):\n",
    "    plt.annotate(r\"%s%%\" % ((str(vals[i]*100)[:4])), (ind[i]+0.2, vals[i]), va=\"bottom\", ha=\"center\", fontsize=10, rotation=90)\n",
    "plt.legend();\n",
    "plt.xlabel('features');\n",
    "plt.ylabel('Importance of features');"
   ]
  },
  {
   "cell_type": "markdown",
   "metadata": {},
   "source": [
    "So mostly two features in the \"loan\" table and one feature in the \"client\" table contribute to the prediction\n",
    "\n",
    "- Payments with 34%\n",
    "- loan amount with 32%\n",
    "- birth year with 17% (but the year when the loan was granted only 2.4%)\n",
    "\n",
    "The rest is below 5%. Surprisingly gender seems to have no influence, as doesn't the district.\n",
    "\n",
    "To improve the model I would take the following steps:\n",
    "\n",
    "- eliminate features which seem to have no influence (<1%)\n",
    "- add potential data like account balance at the time the loan was granted or even the derivative of balance\n",
    "- optimise parameters and split data into train, tests and validation sets to prevent overfitting in the optimisation process\n",
    "- try another model, if F1 score not sufficient"
   ]
  },
  {
   "cell_type": "markdown",
   "metadata": {},
   "source": [
    "### Question 5\n",
    "Imagine that you are invited to go to a bank on-site and all they ask you is: “We have this data set above lying around. Could you do something with it that brings us some value?”\n",
    "\n",
    "Can you think of a use case you could build that gets the bank excited? You do not need to implement something for this question, it is enough to describe your idea. Questions to guide your description:\n",
    "\n",
    "- a) What’s your idea about?\n",
    "- b) How would do implement it (technologies, algorithms, additional data, …)?\n",
    "- c) What is the value for the bank (maybe that value could be even measured with some metric)?\n",
    "\n",
    "If your idea is something bigger which needs too much text to explain in detail, try to limit your description to the most important points and explain the rest in the call with us. (If it is helpful, you can also include a drawing.)\n",
    "\n",
    "So the goal is to create some value for the bank out of the data. There are different types of value like money, customer satisfaction or brand value.\n",
    "\n",
    "My ideas are about marketing and sales. The first idea would be to substitute products the client uses with products of the bank. The bank knows a lot about their clients. They know how much money they earn per month and what they are spending it for, especially with electronic (card) payments. A bank often has own products like funds or sometimes insurances, which it could sell to suitable customers. So lets take take insurances as an example.\n",
    "\n",
    "- have a database with entries for each insurance company, the different insurances they sell and their prices (this may need to be done manually)\n",
    "- for each client collect information of his insurances: to which insurance company he transfers money (check if the recipient is one of the insurance companies in your database, what the amount is, what is the insurance for (this could be gathered from the transaction description or the amount per period).\n",
    "- from this information the bank could arrange a insurance package, which fits the customer needs out of one hand and hopefully for a competitive price.\n",
    "\n",
    "A second, and bigger idea would be to accompany your clients through out their lives with products and information they could need in their current phase of their lives. Age is of course the major parameter here and once kids get older their lifes diversify. Teenagers in a \"Lehre\" have other needs compared to students (pension). People in their twenties and thirties who start buying in kids stores not around holidays may get children. They then may look for a flat or house to buy and so on. So this is a classification problem is based on age. For all ages there is a list of possible targets like (student, employee, student with job, and so on). New recipients of money or a new employer could be a trigger for a new classification. This new classification is based on the old one, so convolutional neuronal networks could be suitable for that. For each of the classification the bank can offer the client informations, offers, or product suggestions. This should benefit the client first and keep him bonded with his bank and in the best case he would purchase some services from the bank, which otherwise he would not."
   ]
  },
  {
   "cell_type": "code",
   "execution_count": null,
   "metadata": {},
   "outputs": [],
   "source": []
  }
 ],
 "metadata": {
  "kernelspec": {
   "display_name": "Python 3",
   "language": "python",
   "name": "python3"
  },
  "language_info": {
   "codemirror_mode": {
    "name": "ipython",
    "version": 3
   },
   "file_extension": ".py",
   "mimetype": "text/x-python",
   "name": "python",
   "nbconvert_exporter": "python",
   "pygments_lexer": "ipython3",
   "version": "3.7.3"
  }
 },
 "nbformat": 4,
 "nbformat_minor": 4
}
